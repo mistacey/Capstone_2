{
 "cells": [
  {
   "cell_type": "markdown",
   "metadata": {},
   "source": [
    "# Exploratory Data Analysis"
   ]
  },
  {
   "cell_type": "markdown",
   "metadata": {},
   "source": [
    "### Imports"
   ]
  },
  {
   "cell_type": "code",
   "execution_count": 1,
   "metadata": {},
   "outputs": [],
   "source": [
    "import pandas as pd\n",
    "import numpy as np\n",
    "import os\n",
    "import matplotlib.pyplot as plt\n",
    "import seaborn as sns\n",
    "from sklearn.decomposition import PCA\n",
    "from sklearn.preprocessing import scale"
   ]
  },
  {
   "cell_type": "markdown",
   "metadata": {},
   "source": [
    "### Loading Data"
   ]
  },
  {
   "cell_type": "code",
   "execution_count": 2,
   "metadata": {},
   "outputs": [],
   "source": [
    "game_data = pd.read_csv(\"data/game_data_cleaned.csv\")"
   ]
  },
  {
   "cell_type": "code",
   "execution_count": 3,
   "metadata": {},
   "outputs": [
    {
     "name": "stdout",
     "output_type": "stream",
     "text": [
      "<class 'pandas.core.frame.DataFrame'>\n",
      "RangeIndex: 345103 entries, 0 to 345102\n",
      "Data columns (total 76 columns):\n",
      " #   Column                       Non-Null Count   Dtype \n",
      "---  ------                       --------------   ----- \n",
      " 0   name                         345103 non-null  object\n",
      " 1   released                     345103 non-null  int64 \n",
      " 2   suggestions_count            345103 non-null  int64 \n",
      " 3   developers                   345103 non-null  object\n",
      " 4   has_achievements             345103 non-null  bool  \n",
      " 5   in_series                    345103 non-null  bool  \n",
      " 6   platform_3DO                 345103 non-null  int64 \n",
      " 7   platform_Android             345103 non-null  int64 \n",
      " 8   platform_Apple II            345103 non-null  int64 \n",
      " 9   platform_Atari 2600          345103 non-null  int64 \n",
      " 10  platform_Atari 5200          345103 non-null  int64 \n",
      " 11  platform_Atari 7800          345103 non-null  int64 \n",
      " 12  platform_Atari 8-bit         345103 non-null  int64 \n",
      " 13  platform_Atari Flashback     345103 non-null  int64 \n",
      " 14  platform_Atari Lynx          345103 non-null  int64 \n",
      " 15  platform_Atari ST            345103 non-null  int64 \n",
      " 16  platform_Atari XEGS          345103 non-null  int64 \n",
      " 17  platform_Classic Macintosh   345103 non-null  int64 \n",
      " 18  platform_Commodore / Amiga   345103 non-null  int64 \n",
      " 19  platform_Dreamcast           345103 non-null  int64 \n",
      " 20  platform_Game Boy            345103 non-null  int64 \n",
      " 21  platform_Game Boy Advance    345103 non-null  int64 \n",
      " 22  platform_Game Boy Color      345103 non-null  int64 \n",
      " 23  platform_Game Gear           345103 non-null  int64 \n",
      " 24  platform_GameCube            345103 non-null  int64 \n",
      " 25  platform_Genesis             345103 non-null  int64 \n",
      " 26  platform_Jaguar              345103 non-null  int64 \n",
      " 27  platform_Linux               345103 non-null  int64 \n",
      " 28  platform_NES                 345103 non-null  int64 \n",
      " 29  platform_Neo Geo             345103 non-null  int64 \n",
      " 30  platform_Nintendo 3DS        345103 non-null  int64 \n",
      " 31  platform_Nintendo 64         345103 non-null  int64 \n",
      " 32  platform_Nintendo DS         345103 non-null  int64 \n",
      " 33  platform_Nintendo DSi        345103 non-null  int64 \n",
      " 34  platform_Nintendo Switch     345103 non-null  int64 \n",
      " 35  platform_PC                  345103 non-null  int64 \n",
      " 36  platform_PS Vita             345103 non-null  int64 \n",
      " 37  platform_PSP                 345103 non-null  int64 \n",
      " 38  platform_PlayStation         345103 non-null  int64 \n",
      " 39  platform_PlayStation 2       345103 non-null  int64 \n",
      " 40  platform_PlayStation 3       345103 non-null  int64 \n",
      " 41  platform_PlayStation 4       345103 non-null  int64 \n",
      " 42  platform_PlayStation 5       345103 non-null  int64 \n",
      " 43  platform_SEGA 32X            345103 non-null  int64 \n",
      " 44  platform_SEGA CD             345103 non-null  int64 \n",
      " 45  platform_SEGA Master System  345103 non-null  int64 \n",
      " 46  platform_SEGA Saturn         345103 non-null  int64 \n",
      " 47  platform_SNES                345103 non-null  int64 \n",
      " 48  platform_Web                 345103 non-null  int64 \n",
      " 49  platform_Wii                 345103 non-null  int64 \n",
      " 50  platform_Wii U               345103 non-null  int64 \n",
      " 51  platform_Xbox                345103 non-null  int64 \n",
      " 52  platform_Xbox 360            345103 non-null  int64 \n",
      " 53  platform_Xbox One            345103 non-null  int64 \n",
      " 54  platform_Xbox Series S/X     345103 non-null  int64 \n",
      " 55  platform_iOS                 345103 non-null  int64 \n",
      " 56  platform_macOS               345103 non-null  int64 \n",
      " 57  genre_Action                 345103 non-null  int64 \n",
      " 58  genre_Adventure              345103 non-null  int64 \n",
      " 59  genre_Arcade                 345103 non-null  int64 \n",
      " 60  genre_Board Games            345103 non-null  int64 \n",
      " 61  genre_Card                   345103 non-null  int64 \n",
      " 62  genre_Casual                 345103 non-null  int64 \n",
      " 63  genre_Educational            345103 non-null  int64 \n",
      " 64  genre_Family                 345103 non-null  int64 \n",
      " 65  genre_Fighting               345103 non-null  int64 \n",
      " 66  genre_Indie                  345103 non-null  int64 \n",
      " 67  genre_Massively Multiplayer  345103 non-null  int64 \n",
      " 68  genre_Platformer             345103 non-null  int64 \n",
      " 69  genre_Puzzle                 345103 non-null  int64 \n",
      " 70  genre_RPG                    345103 non-null  int64 \n",
      " 71  genre_Racing                 345103 non-null  int64 \n",
      " 72  genre_Shooter                345103 non-null  int64 \n",
      " 73  genre_Simulation             345103 non-null  int64 \n",
      " 74  genre_Sports                 345103 non-null  int64 \n",
      " 75  genre_Strategy               345103 non-null  int64 \n",
      "dtypes: bool(2), int64(72), object(2)\n",
      "memory usage: 195.5+ MB\n"
     ]
    }
   ],
   "source": [
    "game_data.info()"
   ]
  },
  {
   "cell_type": "code",
   "execution_count": 4,
   "metadata": {},
   "outputs": [
    {
     "data": {
      "text/html": [
       "<div>\n",
       "<style scoped>\n",
       "    .dataframe tbody tr th:only-of-type {\n",
       "        vertical-align: middle;\n",
       "    }\n",
       "\n",
       "    .dataframe tbody tr th {\n",
       "        vertical-align: top;\n",
       "    }\n",
       "\n",
       "    .dataframe thead th {\n",
       "        text-align: right;\n",
       "    }\n",
       "</style>\n",
       "<table border=\"1\" class=\"dataframe\">\n",
       "  <thead>\n",
       "    <tr style=\"text-align: right;\">\n",
       "      <th></th>\n",
       "      <th>name</th>\n",
       "      <th>released</th>\n",
       "      <th>suggestions_count</th>\n",
       "      <th>developers</th>\n",
       "      <th>has_achievements</th>\n",
       "      <th>in_series</th>\n",
       "      <th>platform_3DO</th>\n",
       "      <th>platform_Android</th>\n",
       "      <th>platform_Apple II</th>\n",
       "      <th>platform_Atari 2600</th>\n",
       "      <th>...</th>\n",
       "      <th>genre_Indie</th>\n",
       "      <th>genre_Massively Multiplayer</th>\n",
       "      <th>genre_Platformer</th>\n",
       "      <th>genre_Puzzle</th>\n",
       "      <th>genre_RPG</th>\n",
       "      <th>genre_Racing</th>\n",
       "      <th>genre_Shooter</th>\n",
       "      <th>genre_Simulation</th>\n",
       "      <th>genre_Sports</th>\n",
       "      <th>genre_Strategy</th>\n",
       "    </tr>\n",
       "  </thead>\n",
       "  <tbody>\n",
       "    <tr>\n",
       "      <th>0</th>\n",
       "      <td>!</td>\n",
       "      <td>2010</td>\n",
       "      <td>24</td>\n",
       "      <td>RUCKYGAMES CO</td>\n",
       "      <td>False</td>\n",
       "      <td>False</td>\n",
       "      <td>0</td>\n",
       "      <td>0</td>\n",
       "      <td>0</td>\n",
       "      <td>0</td>\n",
       "      <td>...</td>\n",
       "      <td>0</td>\n",
       "      <td>0</td>\n",
       "      <td>0</td>\n",
       "      <td>0</td>\n",
       "      <td>0</td>\n",
       "      <td>0</td>\n",
       "      <td>0</td>\n",
       "      <td>0</td>\n",
       "      <td>1</td>\n",
       "      <td>0</td>\n",
       "    </tr>\n",
       "    <tr>\n",
       "      <th>1</th>\n",
       "      <td>! CHEERFUL COOK (Arcade for kids) Lite</td>\n",
       "      <td>2013</td>\n",
       "      <td>102</td>\n",
       "      <td>Evgeny EGOROV</td>\n",
       "      <td>False</td>\n",
       "      <td>False</td>\n",
       "      <td>0</td>\n",
       "      <td>0</td>\n",
       "      <td>0</td>\n",
       "      <td>0</td>\n",
       "      <td>...</td>\n",
       "      <td>0</td>\n",
       "      <td>0</td>\n",
       "      <td>0</td>\n",
       "      <td>0</td>\n",
       "      <td>0</td>\n",
       "      <td>0</td>\n",
       "      <td>0</td>\n",
       "      <td>0</td>\n",
       "      <td>0</td>\n",
       "      <td>0</td>\n",
       "    </tr>\n",
       "    <tr>\n",
       "      <th>2</th>\n",
       "      <td>! Chess !</td>\n",
       "      <td>2016</td>\n",
       "      <td>57</td>\n",
       "      <td>xiaojian chen</td>\n",
       "      <td>False</td>\n",
       "      <td>False</td>\n",
       "      <td>0</td>\n",
       "      <td>0</td>\n",
       "      <td>0</td>\n",
       "      <td>0</td>\n",
       "      <td>...</td>\n",
       "      <td>0</td>\n",
       "      <td>0</td>\n",
       "      <td>0</td>\n",
       "      <td>0</td>\n",
       "      <td>0</td>\n",
       "      <td>0</td>\n",
       "      <td>0</td>\n",
       "      <td>0</td>\n",
       "      <td>0</td>\n",
       "      <td>1</td>\n",
       "    </tr>\n",
       "    <tr>\n",
       "      <th>3</th>\n",
       "      <td>! Hip Hop Fashion Stars Dress Up</td>\n",
       "      <td>2015</td>\n",
       "      <td>120</td>\n",
       "      <td>Peaksel</td>\n",
       "      <td>False</td>\n",
       "      <td>False</td>\n",
       "      <td>0</td>\n",
       "      <td>0</td>\n",
       "      <td>0</td>\n",
       "      <td>0</td>\n",
       "      <td>...</td>\n",
       "      <td>0</td>\n",
       "      <td>0</td>\n",
       "      <td>0</td>\n",
       "      <td>0</td>\n",
       "      <td>1</td>\n",
       "      <td>0</td>\n",
       "      <td>0</td>\n",
       "      <td>0</td>\n",
       "      <td>0</td>\n",
       "      <td>0</td>\n",
       "    </tr>\n",
       "    <tr>\n",
       "      <th>4</th>\n",
       "      <td>! I am bored</td>\n",
       "      <td>2014</td>\n",
       "      <td>31</td>\n",
       "      <td>Peaksel</td>\n",
       "      <td>False</td>\n",
       "      <td>False</td>\n",
       "      <td>0</td>\n",
       "      <td>0</td>\n",
       "      <td>0</td>\n",
       "      <td>0</td>\n",
       "      <td>...</td>\n",
       "      <td>0</td>\n",
       "      <td>0</td>\n",
       "      <td>0</td>\n",
       "      <td>0</td>\n",
       "      <td>0</td>\n",
       "      <td>0</td>\n",
       "      <td>0</td>\n",
       "      <td>0</td>\n",
       "      <td>0</td>\n",
       "      <td>0</td>\n",
       "    </tr>\n",
       "  </tbody>\n",
       "</table>\n",
       "<p>5 rows × 76 columns</p>\n",
       "</div>"
      ],
      "text/plain": [
       "                                     name  released  suggestions_count  \\\n",
       "0                                       !      2010                 24   \n",
       "1  ! CHEERFUL COOK (Arcade for kids) Lite      2013                102   \n",
       "2                               ! Chess !      2016                 57   \n",
       "3        ! Hip Hop Fashion Stars Dress Up      2015                120   \n",
       "4                            ! I am bored      2014                 31   \n",
       "\n",
       "      developers  has_achievements  in_series  platform_3DO  platform_Android  \\\n",
       "0  RUCKYGAMES CO             False      False             0                 0   \n",
       "1  Evgeny EGOROV             False      False             0                 0   \n",
       "2  xiaojian chen             False      False             0                 0   \n",
       "3        Peaksel             False      False             0                 0   \n",
       "4        Peaksel             False      False             0                 0   \n",
       "\n",
       "   platform_Apple II  platform_Atari 2600  ...  genre_Indie  \\\n",
       "0                  0                    0  ...            0   \n",
       "1                  0                    0  ...            0   \n",
       "2                  0                    0  ...            0   \n",
       "3                  0                    0  ...            0   \n",
       "4                  0                    0  ...            0   \n",
       "\n",
       "   genre_Massively Multiplayer  genre_Platformer  genre_Puzzle  genre_RPG  \\\n",
       "0                            0                 0             0          0   \n",
       "1                            0                 0             0          0   \n",
       "2                            0                 0             0          0   \n",
       "3                            0                 0             0          1   \n",
       "4                            0                 0             0          0   \n",
       "\n",
       "   genre_Racing  genre_Shooter  genre_Simulation  genre_Sports  genre_Strategy  \n",
       "0             0              0                 0             1               0  \n",
       "1             0              0                 0             0               0  \n",
       "2             0              0                 0             0               1  \n",
       "3             0              0                 0             0               0  \n",
       "4             0              0                 0             0               0  \n",
       "\n",
       "[5 rows x 76 columns]"
      ]
     },
     "execution_count": 4,
     "metadata": {},
     "output_type": "execute_result"
    }
   ],
   "source": [
    "game_data.head()"
   ]
  },
  {
   "cell_type": "markdown",
   "metadata": {},
   "source": [
    "### Exploring Data"
   ]
  },
  {
   "cell_type": "markdown",
   "metadata": {},
   "source": [
    "**Most prolific developers**"
   ]
  },
  {
   "cell_type": "code",
   "execution_count": 5,
   "metadata": {},
   "outputs": [
    {
     "data": {
      "text/plain": [
       "Sony Interactive Entertainment    306\n",
       "SEGA                              277\n",
       "Big Fish Games                    253\n",
       "Robert Brooks                     233\n",
       "Konami Digital Entertainment      222\n",
       "                                 ... \n",
       "stefbart13                          1\n",
       "Wilkin0129                          1\n",
       "Diaz_True_Russian                   1\n",
       "Pau MagranÃ©                        1\n",
       "MysteryGuy108                       1\n",
       "Name: developers, Length: 170032, dtype: int64"
      ]
     },
     "execution_count": 5,
     "metadata": {},
     "output_type": "execute_result"
    }
   ],
   "source": [
    "game_data.developers.value_counts()"
   ]
  },
  {
   "cell_type": "markdown",
   "metadata": {},
   "source": [
    "**Number of developers**"
   ]
  },
  {
   "cell_type": "code",
   "execution_count": 6,
   "metadata": {},
   "outputs": [
    {
     "data": {
      "text/plain": [
       "170032"
      ]
     },
     "execution_count": 6,
     "metadata": {},
     "output_type": "execute_result"
    }
   ],
   "source": [
    "game_data.developers.nunique()"
   ]
  },
  {
   "cell_type": "markdown",
   "metadata": {},
   "source": [
    "**Percent of games with achievements**"
   ]
  },
  {
   "cell_type": "code",
   "execution_count": 7,
   "metadata": {},
   "outputs": [
    {
     "data": {
      "text/plain": [
       "0.0461166666183719"
      ]
     },
     "execution_count": 7,
     "metadata": {},
     "output_type": "execute_result"
    }
   ],
   "source": [
    "len(game_data[game_data['has_achievements']==True]) / len(game_data)"
   ]
  },
  {
   "cell_type": "markdown",
   "metadata": {},
   "source": [
    "**Percent of games in series**"
   ]
  },
  {
   "cell_type": "code",
   "execution_count": 8,
   "metadata": {},
   "outputs": [
    {
     "data": {
      "text/plain": [
       "0.0070268876248540295"
      ]
     },
     "execution_count": 8,
     "metadata": {},
     "output_type": "execute_result"
    }
   ],
   "source": [
    "len(game_data[game_data['in_series']==True]) / len(game_data)"
   ]
  },
  {
   "cell_type": "markdown",
   "metadata": {},
   "source": [
    "**Number of games per year**"
   ]
  },
  {
   "cell_type": "code",
   "execution_count": 9,
   "metadata": {},
   "outputs": [
    {
     "data": {
      "text/plain": [
       "2020    85279\n",
       "2019    58504\n",
       "2018    54854\n",
       "2017    45333\n",
       "2016    33085\n",
       "2015    20650\n",
       "2014    12626\n",
       "2013     5564\n",
       "2012     4633\n",
       "2011     3572\n",
       "2010     3056\n",
       "2009     2245\n",
       "2008     1326\n",
       "2007     1058\n",
       "2006      997\n",
       "2004      949\n",
       "2005      919\n",
       "2001      918\n",
       "2003      917\n",
       "2000      804\n",
       "2002      788\n",
       "1997      707\n",
       "1995      689\n",
       "1994      623\n",
       "1999      605\n",
       "1996      597\n",
       "1993      561\n",
       "1998      546\n",
       "1992      485\n",
       "1991      402\n",
       "1990      367\n",
       "1989      271\n",
       "1988      196\n",
       "1987      188\n",
       "1986      128\n",
       "1985      122\n",
       "1984      106\n",
       "1983      104\n",
       "2030       92\n",
       "2021       86\n",
       "1982       65\n",
       "1981       32\n",
       "1980       14\n",
       "1978       10\n",
       "1979        8\n",
       "1977        8\n",
       "1976        5\n",
       "2022        3\n",
       "1971        2\n",
       "2024        1\n",
       "1973        1\n",
       "1972        1\n",
       "2033        1\n",
       "Name: released, dtype: int64"
      ]
     },
     "execution_count": 9,
     "metadata": {},
     "output_type": "execute_result"
    }
   ],
   "source": [
    "game_data.released.value_counts()"
   ]
  },
  {
   "cell_type": "markdown",
   "metadata": {},
   "source": [
    "It appears some unreleased games weren't deleted during wrangling. I will delete them now."
   ]
  },
  {
   "cell_type": "code",
   "execution_count": 10,
   "metadata": {},
   "outputs": [],
   "source": [
    "game_data = game_data[game_data['released'] <= 2021]"
   ]
  },
  {
   "cell_type": "markdown",
   "metadata": {},
   "source": [
    "It appears that with a few exceptions, more games are released each year than the year before. Let's see how they are distributed with a histogram."
   ]
  },
  {
   "cell_type": "code",
   "execution_count": 20,
   "metadata": {},
   "outputs": [
    {
     "data": {
      "text/plain": [
       "Text(0, 0.5, 'Games Released')"
      ]
     },
     "execution_count": 20,
     "metadata": {},
     "output_type": "execute_result"
    },
    {
     "data": {
      "image/png": "[encoded data removed]",
      "text/plain": [
       "<Figure size 432x288 with 1 Axes>"
      ]
     },
     "metadata": {
      "needs_background": "light"
     },
     "output_type": "display_data"
    }
   ],
   "source": [
    "game_data.released.hist(bins=50)\n",
    "plt.xlabel('Year')\n",
    "plt.ylabel('Games Released')"
   ]
  },
  {
   "cell_type": "markdown",
   "metadata": {},
   "source": [
    "So it looks like the vast majority of games have been released in the past decade. Hopefully this doesn't lead to years with fewer games overperforming due to smaller sample sizes."
   ]
  },
  {
   "cell_type": "markdown",
   "metadata": {},
   "source": [
    "**Average number of suggestions by Developer**"
   ]
  },
  {
   "cell_type": "code",
   "execution_count": 12,
   "metadata": {},
   "outputs": [],
   "source": [
    "dev_suggestions = game_data.groupby(by='developers')['suggestions_count'].mean()"
   ]
  },
  {
   "cell_type": "code",
   "execution_count": 13,
   "metadata": {},
   "outputs": [
    {
     "data": {
      "text/plain": [
       "developers\n",
       "Arc System Works||HAMSTER||Technōs Japan||GRAVITY||Technos Japan||Binary Design||Million Co.||Barunson Games    1839.0\n",
       "4EversGames||HE SAW||HeSaw                                                                                      1427.0\n",
       "Square Enix||Square||SquareSoft                                                                                 1386.0\n",
       "Abstraction Games||Zojoi||Reverb Communications||Reverb Triple XP                                               1371.0\n",
       "Beam Software||Krome Studios Melbourne||Melbourne House                                                         1249.0\n",
       "                                                                                                                 ...  \n",
       "FakaGames                                                                                                          0.0\n",
       "UrBoiRyan                                                                                                          0.0\n",
       "UraalMalik                                                                                                         0.0\n",
       "CG115                                                                                                              0.0\n",
       "Fix Play228                                                                                                        0.0\n",
       "Name: suggestions_count, Length: 169976, dtype: float64"
      ]
     },
     "execution_count": 13,
     "metadata": {},
     "output_type": "execute_result"
    }
   ],
   "source": [
    "dev_suggestions.sort_values(ascending=False)"
   ]
  },
  {
   "cell_type": "markdown",
   "metadata": {},
   "source": [
    "**Average number of suggestions by Year**"
   ]
  },
  {
   "cell_type": "code",
   "execution_count": 14,
   "metadata": {},
   "outputs": [],
   "source": [
    "year_suggestions = game_data.groupby(by='released')['suggestions_count'].mean()"
   ]
  },
  {
   "cell_type": "code",
   "execution_count": 15,
   "metadata": {},
   "outputs": [
    {
     "data": {
      "text/plain": [
       "released\n",
       "2007    343.390359\n",
       "2005    325.968444\n",
       "2006    318.827482\n",
       "2004    304.449947\n",
       "2003    302.856052\n",
       "2008    300.757919\n",
       "2002    288.442893\n",
       "2000    283.982587\n",
       "1999    282.271074\n",
       "1971    281.500000\n",
       "2021    279.906977\n",
       "2001    279.111111\n",
       "1998    255.639194\n",
       "2009    245.946993\n",
       "1987    242.409574\n",
       "1993    232.643494\n",
       "1988    232.341837\n",
       "1992    229.870103\n",
       "1989    227.435424\n",
       "1996    224.390285\n",
       "1991    224.174129\n",
       "1994    222.686998\n",
       "1997    222.531825\n",
       "1990    220.370572\n",
       "1986    219.515625\n",
       "1995    219.317852\n",
       "1985    207.622951\n",
       "2010    206.814136\n",
       "2011    192.033035\n",
       "1984    177.839623\n",
       "1981    174.093750\n",
       "2012    171.470969\n",
       "2013    163.896837\n",
       "1983    151.548077\n",
       "1979    151.250000\n",
       "1982    126.430769\n",
       "2014    122.905592\n",
       "2015    115.943293\n",
       "2016    110.407012\n",
       "1980    108.714286\n",
       "2017     98.368892\n",
       "2018     90.003281\n",
       "1978     87.700000\n",
       "1976     84.000000\n",
       "2019     77.352745\n",
       "2020     58.878352\n",
       "1973     43.000000\n",
       "1977     34.500000\n",
       "1972     13.000000\n",
       "Name: suggestions_count, dtype: float64"
      ]
     },
     "execution_count": 15,
     "metadata": {},
     "output_type": "execute_result"
    }
   ],
   "source": [
    "year_suggestions_sorted = year_suggestions.sort_values(ascending=False)\n",
    "year_suggestions_sorted"
   ]
  },
  {
   "cell_type": "code",
   "execution_count": 22,
   "metadata": {},
   "outputs": [
    {
     "data": {
      "text/plain": [
       "Text(0, 0.5, 'Average number of suggestions per game')"
      ]
     },
     "execution_count": 22,
     "metadata": {},
     "output_type": "execute_result"
    },
    {
     "data": {
      "image/png": "[encoded data removed]",
      "text/plain": [
       "<Figure size 432x288 with 1 Axes>"
      ]
     },
     "metadata": {
      "needs_background": "light"
     },
     "output_type": "display_data"
    }
   ],
   "source": [
    "plt.plot(year_suggestions)\n",
    "plt.xlabel('Year')\n",
    "plt.ylabel('Average number of suggestions per game')"
   ]
  },
  {
   "cell_type": "markdown",
   "metadata": {},
   "source": [
    "The average number of suggestions per game seems to have peaked in 2007. 2021 and the early 70s appear to be outliers but there are relatively few games released in those years which chould explain that."
   ]
  },
  {
   "cell_type": "markdown",
   "metadata": {},
   "source": [
    "**Average number of suggestions for games with achievements**"
   ]
  },
  {
   "cell_type": "code",
   "execution_count": 16,
   "metadata": {},
   "outputs": [
    {
     "data": {
      "text/plain": [
       "313.32505969586526"
      ]
     },
     "execution_count": 16,
     "metadata": {},
     "output_type": "execute_result"
    }
   ],
   "source": [
    "achievements_suggestions = game_data[game_data['has_achievements']==True]['suggestions_count'].mean()\n",
    "achievements_suggestions"
   ]
  },
  {
   "cell_type": "markdown",
   "metadata": {},
   "source": [
    "**Average number of suggestions for games without achievements**"
   ]
  },
  {
   "cell_type": "code",
   "execution_count": 17,
   "metadata": {},
   "outputs": [
    {
     "data": {
      "text/plain": [
       "89.27008860744108"
      ]
     },
     "execution_count": 17,
     "metadata": {},
     "output_type": "execute_result"
    }
   ],
   "source": [
    "no_achievements_suggestions = game_data[game_data['has_achievements']==False]['suggestions_count'].mean()\n",
    "no_achievements_suggestions"
   ]
  },
  {
   "cell_type": "markdown",
   "metadata": {},
   "source": [
    "It appears that games with achievements recieve more suggestions on average"
   ]
  },
  {
   "cell_type": "markdown",
   "metadata": {},
   "source": [
    "**Average number of suggestions for games in a series**"
   ]
  },
  {
   "cell_type": "code",
   "execution_count": 18,
   "metadata": {},
   "outputs": [
    {
     "data": {
      "text/plain": [
       "382.9958762886598"
      ]
     },
     "execution_count": 18,
     "metadata": {},
     "output_type": "execute_result"
    }
   ],
   "source": [
    "series_suggestions = game_data[game_data['in_series']==True]['suggestions_count'].mean()\n",
    "series_suggestions"
   ]
  },
  {
   "cell_type": "markdown",
   "metadata": {},
   "source": [
    "**Average number of suggestions for games not in a series**"
   ]
  },
  {
   "cell_type": "code",
   "execution_count": 19,
   "metadata": {},
   "outputs": [
    {
     "data": {
      "text/plain": [
       "97.59899702552097"
      ]
     },
     "execution_count": 19,
     "metadata": {},
     "output_type": "execute_result"
    }
   ],
   "source": [
    "no_series_suggestions = game_data[game_data['in_series']==False]['suggestions_count'].mean()\n",
    "no_series_suggestions"
   ]
  },
  {
   "cell_type": "markdown",
   "metadata": {},
   "source": [
    "It appears that games in a series recieve more suggestions on average"
   ]
  },
  {
   "cell_type": "code",
   "execution_count": null,
   "metadata": {},
   "outputs": [],
   "source": []
  }
 ],
 "metadata": {
  "kernelspec": {
   "display_name": "Python 3",
   "language": "python",
   "name": "python3"
  },
  "language_info": {
   "codemirror_mode": {
    "name": "ipython",
    "version": 3
   },
   "file_extension": ".py",
   "mimetype": "text/x-python",
   "name": "python",
   "nbconvert_exporter": "python",
   "pygments_lexer": "ipython3",
   "version": "3.7.9"
  }
 },
 "nbformat": 4,
 "nbformat_minor": 4
}
