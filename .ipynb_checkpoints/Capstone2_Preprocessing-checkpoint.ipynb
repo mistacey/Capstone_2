{
 "cells": [
  {
   "cell_type": "markdown",
   "metadata": {},
   "source": [
    "# Preprocessing"
   ]
  },
  {
   "cell_type": "markdown",
   "metadata": {},
   "source": [
    "In this notebook I will standardize my numeric features using a scaler and split the data into training and testing datasets. My dummy variables are already created as I made them in the data wrangling step so they would not effect my summary statistics in the EDA step."
   ]
  },
  {
   "cell_type": "markdown",
   "metadata": {},
   "source": [
    "### Imports"
   ]
  },
  {
   "cell_type": "code",
   "execution_count": 1,
   "metadata": {},
   "outputs": [],
   "source": [
    "import pandas as pd\n",
    "import numpy as np\n",
    "import os\n",
    "from sklearn.model_selection import train_test_split\n",
    "from sklearn.preprocessing import StandardScaler"
   ]
  },
  {
   "cell_type": "markdown",
   "metadata": {},
   "source": [
    "### Loading Data"
   ]
  },
  {
   "cell_type": "code",
   "execution_count": 2,
   "metadata": {},
   "outputs": [],
   "source": [
    "game_data = pd.read_csv(\"data/game_data_cleaned.csv\")"
   ]
  },
  {
   "cell_type": "markdown",
   "metadata": {},
   "source": [
    "### Train/Test Split"
   ]
  },
  {
   "cell_type": "markdown",
   "metadata": {},
   "source": [
    "I am going to split the data into 70/30 train/test datasets. As the number of suggestions is my target, I will set suggestions_count as my y variable"
   ]
  },
  {
   "cell_type": "code",
   "execution_count": 4,
   "metadata": {},
   "outputs": [],
   "source": [
    "X_train, X_test, y_train, y_test = train_test_split(game_data.drop(columns='suggestions_count'), \n",
    "                                                    game_data.suggestions_count, test_size=0.3, \n",
    "                                                    random_state=47)"
   ]
  },
  {
   "cell_type": "code",
   "execution_count": 5,
   "metadata": {},
   "outputs": [
    {
     "data": {
      "text/plain": [
       "((241504, 73), (103502, 73))"
      ]
     },
     "execution_count": 5,
     "metadata": {},
     "output_type": "execute_result"
    }
   ],
   "source": [
    "X_train.shape, X_test.shape"
   ]
  },
  {
   "cell_type": "code",
   "execution_count": 6,
   "metadata": {},
   "outputs": [
    {
     "data": {
      "text/plain": [
       "((241504,), (103502,))"
      ]
     },
     "execution_count": 6,
     "metadata": {},
     "output_type": "execute_result"
    }
   ],
   "source": [
    "y_train.shape, y_test.shape"
   ]
  },
  {
   "cell_type": "markdown",
   "metadata": {},
   "source": [
    "I will now check that the dtypes of both X sets are still numeric."
   ]
  },
  {
   "cell_type": "code",
   "execution_count": 8,
   "metadata": {},
   "outputs": [
    {
     "name": "stdout",
     "output_type": "stream",
     "text": [
      "<class 'pandas.core.frame.DataFrame'>\n",
      "Int64Index: 241504 entries, 196476 to 313222\n",
      "Data columns (total 73 columns):\n",
      " #   Column                       Non-Null Count   Dtype\n",
      "---  ------                       --------------   -----\n",
      " 0   released                     241504 non-null  int64\n",
      " 1   has_achievements             241504 non-null  bool \n",
      " 2   in_series                    241504 non-null  bool \n",
      " 3   platform_3DO                 241504 non-null  int64\n",
      " 4   platform_Android             241504 non-null  int64\n",
      " 5   platform_Apple II            241504 non-null  int64\n",
      " 6   platform_Atari 2600          241504 non-null  int64\n",
      " 7   platform_Atari 5200          241504 non-null  int64\n",
      " 8   platform_Atari 7800          241504 non-null  int64\n",
      " 9   platform_Atari 8-bit         241504 non-null  int64\n",
      " 10  platform_Atari Flashback     241504 non-null  int64\n",
      " 11  platform_Atari Lynx          241504 non-null  int64\n",
      " 12  platform_Atari ST            241504 non-null  int64\n",
      " 13  platform_Atari XEGS          241504 non-null  int64\n",
      " 14  platform_Classic Macintosh   241504 non-null  int64\n",
      " 15  platform_Commodore / Amiga   241504 non-null  int64\n",
      " 16  platform_Dreamcast           241504 non-null  int64\n",
      " 17  platform_Game Boy            241504 non-null  int64\n",
      " 18  platform_Game Boy Advance    241504 non-null  int64\n",
      " 19  platform_Game Boy Color      241504 non-null  int64\n",
      " 20  platform_Game Gear           241504 non-null  int64\n",
      " 21  platform_GameCube            241504 non-null  int64\n",
      " 22  platform_Genesis             241504 non-null  int64\n",
      " 23  platform_Jaguar              241504 non-null  int64\n",
      " 24  platform_Linux               241504 non-null  int64\n",
      " 25  platform_NES                 241504 non-null  int64\n",
      " 26  platform_Neo Geo             241504 non-null  int64\n",
      " 27  platform_Nintendo 3DS        241504 non-null  int64\n",
      " 28  platform_Nintendo 64         241504 non-null  int64\n",
      " 29  platform_Nintendo DS         241504 non-null  int64\n",
      " 30  platform_Nintendo DSi        241504 non-null  int64\n",
      " 31  platform_Nintendo Switch     241504 non-null  int64\n",
      " 32  platform_PC                  241504 non-null  int64\n",
      " 33  platform_PS Vita             241504 non-null  int64\n",
      " 34  platform_PSP                 241504 non-null  int64\n",
      " 35  platform_PlayStation         241504 non-null  int64\n",
      " 36  platform_PlayStation 2       241504 non-null  int64\n",
      " 37  platform_PlayStation 3       241504 non-null  int64\n",
      " 38  platform_PlayStation 4       241504 non-null  int64\n",
      " 39  platform_PlayStation 5       241504 non-null  int64\n",
      " 40  platform_SEGA 32X            241504 non-null  int64\n",
      " 41  platform_SEGA CD             241504 non-null  int64\n",
      " 42  platform_SEGA Master System  241504 non-null  int64\n",
      " 43  platform_SEGA Saturn         241504 non-null  int64\n",
      " 44  platform_SNES                241504 non-null  int64\n",
      " 45  platform_Web                 241504 non-null  int64\n",
      " 46  platform_Wii                 241504 non-null  int64\n",
      " 47  platform_Wii U               241504 non-null  int64\n",
      " 48  platform_Xbox                241504 non-null  int64\n",
      " 49  platform_Xbox 360            241504 non-null  int64\n",
      " 50  platform_Xbox One            241504 non-null  int64\n",
      " 51  platform_Xbox Series S/X     241504 non-null  int64\n",
      " 52  platform_iOS                 241504 non-null  int64\n",
      " 53  platform_macOS               241504 non-null  int64\n",
      " 54  genre_Action                 241504 non-null  int64\n",
      " 55  genre_Adventure              241504 non-null  int64\n",
      " 56  genre_Arcade                 241504 non-null  int64\n",
      " 57  genre_Board Games            241504 non-null  int64\n",
      " 58  genre_Card                   241504 non-null  int64\n",
      " 59  genre_Casual                 241504 non-null  int64\n",
      " 60  genre_Educational            241504 non-null  int64\n",
      " 61  genre_Family                 241504 non-null  int64\n",
      " 62  genre_Fighting               241504 non-null  int64\n",
      " 63  genre_Indie                  241504 non-null  int64\n",
      " 64  genre_Massively Multiplayer  241504 non-null  int64\n",
      " 65  genre_Platformer             241504 non-null  int64\n",
      " 66  genre_Puzzle                 241504 non-null  int64\n",
      " 67  genre_RPG                    241504 non-null  int64\n",
      " 68  genre_Racing                 241504 non-null  int64\n",
      " 69  genre_Shooter                241504 non-null  int64\n",
      " 70  genre_Simulation             241504 non-null  int64\n",
      " 71  genre_Sports                 241504 non-null  int64\n",
      " 72  genre_Strategy               241504 non-null  int64\n",
      "dtypes: bool(2), int64(71)\n",
      "memory usage: 133.1 MB\n"
     ]
    }
   ],
   "source": [
    "X_train.info()"
   ]
  },
  {
   "cell_type": "code",
   "execution_count": 9,
   "metadata": {},
   "outputs": [
    {
     "name": "stdout",
     "output_type": "stream",
     "text": [
      "<class 'pandas.core.frame.DataFrame'>\n",
      "Int64Index: 103502 entries, 177663 to 64517\n",
      "Data columns (total 73 columns):\n",
      " #   Column                       Non-Null Count   Dtype\n",
      "---  ------                       --------------   -----\n",
      " 0   released                     103502 non-null  int64\n",
      " 1   has_achievements             103502 non-null  bool \n",
      " 2   in_series                    103502 non-null  bool \n",
      " 3   platform_3DO                 103502 non-null  int64\n",
      " 4   platform_Android             103502 non-null  int64\n",
      " 5   platform_Apple II            103502 non-null  int64\n",
      " 6   platform_Atari 2600          103502 non-null  int64\n",
      " 7   platform_Atari 5200          103502 non-null  int64\n",
      " 8   platform_Atari 7800          103502 non-null  int64\n",
      " 9   platform_Atari 8-bit         103502 non-null  int64\n",
      " 10  platform_Atari Flashback     103502 non-null  int64\n",
      " 11  platform_Atari Lynx          103502 non-null  int64\n",
      " 12  platform_Atari ST            103502 non-null  int64\n",
      " 13  platform_Atari XEGS          103502 non-null  int64\n",
      " 14  platform_Classic Macintosh   103502 non-null  int64\n",
      " 15  platform_Commodore / Amiga   103502 non-null  int64\n",
      " 16  platform_Dreamcast           103502 non-null  int64\n",
      " 17  platform_Game Boy            103502 non-null  int64\n",
      " 18  platform_Game Boy Advance    103502 non-null  int64\n",
      " 19  platform_Game Boy Color      103502 non-null  int64\n",
      " 20  platform_Game Gear           103502 non-null  int64\n",
      " 21  platform_GameCube            103502 non-null  int64\n",
      " 22  platform_Genesis             103502 non-null  int64\n",
      " 23  platform_Jaguar              103502 non-null  int64\n",
      " 24  platform_Linux               103502 non-null  int64\n",
      " 25  platform_NES                 103502 non-null  int64\n",
      " 26  platform_Neo Geo             103502 non-null  int64\n",
      " 27  platform_Nintendo 3DS        103502 non-null  int64\n",
      " 28  platform_Nintendo 64         103502 non-null  int64\n",
      " 29  platform_Nintendo DS         103502 non-null  int64\n",
      " 30  platform_Nintendo DSi        103502 non-null  int64\n",
      " 31  platform_Nintendo Switch     103502 non-null  int64\n",
      " 32  platform_PC                  103502 non-null  int64\n",
      " 33  platform_PS Vita             103502 non-null  int64\n",
      " 34  platform_PSP                 103502 non-null  int64\n",
      " 35  platform_PlayStation         103502 non-null  int64\n",
      " 36  platform_PlayStation 2       103502 non-null  int64\n",
      " 37  platform_PlayStation 3       103502 non-null  int64\n",
      " 38  platform_PlayStation 4       103502 non-null  int64\n",
      " 39  platform_PlayStation 5       103502 non-null  int64\n",
      " 40  platform_SEGA 32X            103502 non-null  int64\n",
      " 41  platform_SEGA CD             103502 non-null  int64\n",
      " 42  platform_SEGA Master System  103502 non-null  int64\n",
      " 43  platform_SEGA Saturn         103502 non-null  int64\n",
      " 44  platform_SNES                103502 non-null  int64\n",
      " 45  platform_Web                 103502 non-null  int64\n",
      " 46  platform_Wii                 103502 non-null  int64\n",
      " 47  platform_Wii U               103502 non-null  int64\n",
      " 48  platform_Xbox                103502 non-null  int64\n",
      " 49  platform_Xbox 360            103502 non-null  int64\n",
      " 50  platform_Xbox One            103502 non-null  int64\n",
      " 51  platform_Xbox Series S/X     103502 non-null  int64\n",
      " 52  platform_iOS                 103502 non-null  int64\n",
      " 53  platform_macOS               103502 non-null  int64\n",
      " 54  genre_Action                 103502 non-null  int64\n",
      " 55  genre_Adventure              103502 non-null  int64\n",
      " 56  genre_Arcade                 103502 non-null  int64\n",
      " 57  genre_Board Games            103502 non-null  int64\n",
      " 58  genre_Card                   103502 non-null  int64\n",
      " 59  genre_Casual                 103502 non-null  int64\n",
      " 60  genre_Educational            103502 non-null  int64\n",
      " 61  genre_Family                 103502 non-null  int64\n",
      " 62  genre_Fighting               103502 non-null  int64\n",
      " 63  genre_Indie                  103502 non-null  int64\n",
      " 64  genre_Massively Multiplayer  103502 non-null  int64\n",
      " 65  genre_Platformer             103502 non-null  int64\n",
      " 66  genre_Puzzle                 103502 non-null  int64\n",
      " 67  genre_RPG                    103502 non-null  int64\n",
      " 68  genre_Racing                 103502 non-null  int64\n",
      " 69  genre_Shooter                103502 non-null  int64\n",
      " 70  genre_Simulation             103502 non-null  int64\n",
      " 71  genre_Sports                 103502 non-null  int64\n",
      " 72  genre_Strategy               103502 non-null  int64\n",
      "dtypes: bool(2), int64(71)\n",
      "memory usage: 57.1 MB\n"
     ]
    }
   ],
   "source": [
    "X_test.info()"
   ]
  },
  {
   "cell_type": "markdown",
   "metadata": {},
   "source": [
    "### Scaling the Data"
   ]
  },
  {
   "cell_type": "markdown",
   "metadata": {},
   "source": [
    "I will now apply a standard scaler to put the features on a consistent scale."
   ]
  },
  {
   "cell_type": "code",
   "execution_count": 10,
   "metadata": {},
   "outputs": [],
   "source": [
    "scaler = StandardScaler()\n",
    "scaler.fit(X_train)\n",
    "X_train_scaled = scaler.transform(X_train)\n",
    "X_test_scaled = scaler.transform(X_test)"
   ]
  },
  {
   "cell_type": "markdown",
   "metadata": {},
   "source": [
    "My data is now split into train and test sets and scaled to be ready for testing models in the next step."
   ]
  }
 ],
 "metadata": {
  "kernelspec": {
   "display_name": "Python 3",
   "language": "python",
   "name": "python3"
  },
  "language_info": {
   "codemirror_mode": {
    "name": "ipython",
    "version": 3
   },
   "file_extension": ".py",
   "mimetype": "text/x-python",
   "name": "python",
   "nbconvert_exporter": "python",
   "pygments_lexer": "ipython3",
   "version": "3.7.9"
  }
 },
 "nbformat": 4,
 "nbformat_minor": 4
}
