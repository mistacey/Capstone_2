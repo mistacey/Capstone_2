{
 "cells": [
  {
   "cell_type": "markdown",
   "metadata": {},
   "source": [
    "# Data Wrangling"
   ]
  },
  {
   "cell_type": "markdown",
   "metadata": {},
   "source": [
    "### Imports and Data Loading"
   ]
  },
  {
   "cell_type": "code",
   "execution_count": 1,
   "metadata": {},
   "outputs": [],
   "source": [
    "#Importing libraries\n",
    "import pandas as pd\n",
    "import numpy as np"
   ]
  },
  {
   "cell_type": "code",
   "execution_count": 2,
   "metadata": {},
   "outputs": [],
   "source": [
    "#loading data\n",
    "game_data = pd.read_csv('game_info.csv')"
   ]
  },
  {
   "cell_type": "code",
   "execution_count": 3,
   "metadata": {},
   "outputs": [
    {
     "name": "stdout",
     "output_type": "stream",
     "text": [
      "<class 'pandas.core.frame.DataFrame'>\n",
      "RangeIndex: 474417 entries, 0 to 474416\n",
      "Data columns (total 27 columns):\n",
      " #   Column                Non-Null Count   Dtype  \n",
      "---  ------                --------------   -----  \n",
      " 0   id                    474417 non-null  int64  \n",
      " 1   slug                  474415 non-null  object \n",
      " 2   name                  474415 non-null  object \n",
      " 3   metacritic            4733 non-null    float64\n",
      " 4   released              450218 non-null  object \n",
      " 5   tba                   474417 non-null  bool   \n",
      " 6   updated               474417 non-null  object \n",
      " 7   website               65041 non-null   object \n",
      " 8   rating                474417 non-null  float64\n",
      " 9   rating_top            474417 non-null  int64  \n",
      " 10  playtime              474417 non-null  int64  \n",
      " 11  achievements_count    474417 non-null  int64  \n",
      " 12  ratings_count         474417 non-null  int64  \n",
      " 13  suggestions_count     474417 non-null  int64  \n",
      " 14  game_series_count     474417 non-null  int64  \n",
      " 15  reviews_count         474417 non-null  int64  \n",
      " 16  platforms             470431 non-null  object \n",
      " 17  developers            466051 non-null  object \n",
      " 18  genres                371232 non-null  object \n",
      " 19  publishers            141033 non-null  object \n",
      " 20  esrb_rating           55864 non-null   object \n",
      " 21  added_status_yet      474417 non-null  int64  \n",
      " 22  added_status_owned    474417 non-null  int64  \n",
      " 23  added_status_beaten   474417 non-null  int64  \n",
      " 24  added_status_toplay   474417 non-null  int64  \n",
      " 25  added_status_dropped  474417 non-null  int64  \n",
      " 26  added_status_playing  474417 non-null  int64  \n",
      "dtypes: bool(1), float64(2), int64(14), object(10)\n",
      "memory usage: 94.6+ MB\n"
     ]
    }
   ],
   "source": [
    "#checking out initial data\n",
    "game_data.info()"
   ]
  },
  {
   "cell_type": "code",
   "execution_count": 4,
   "metadata": {},
   "outputs": [
    {
     "data": {
      "text/html": [
       "<div>\n",
       "<style scoped>\n",
       "    .dataframe tbody tr th:only-of-type {\n",
       "        vertical-align: middle;\n",
       "    }\n",
       "\n",
       "    .dataframe tbody tr th {\n",
       "        vertical-align: top;\n",
       "    }\n",
       "\n",
       "    .dataframe thead th {\n",
       "        text-align: right;\n",
       "    }\n",
       "</style>\n",
       "<table border=\"1\" class=\"dataframe\">\n",
       "  <thead>\n",
       "    <tr style=\"text-align: right;\">\n",
       "      <th></th>\n",
       "      <th>id</th>\n",
       "      <th>slug</th>\n",
       "      <th>name</th>\n",
       "      <th>metacritic</th>\n",
       "      <th>released</th>\n",
       "      <th>tba</th>\n",
       "      <th>updated</th>\n",
       "      <th>website</th>\n",
       "      <th>rating</th>\n",
       "      <th>rating_top</th>\n",
       "      <th>...</th>\n",
       "      <th>developers</th>\n",
       "      <th>genres</th>\n",
       "      <th>publishers</th>\n",
       "      <th>esrb_rating</th>\n",
       "      <th>added_status_yet</th>\n",
       "      <th>added_status_owned</th>\n",
       "      <th>added_status_beaten</th>\n",
       "      <th>added_status_toplay</th>\n",
       "      <th>added_status_dropped</th>\n",
       "      <th>added_status_playing</th>\n",
       "    </tr>\n",
       "  </thead>\n",
       "  <tbody>\n",
       "    <tr>\n",
       "      <th>0</th>\n",
       "      <td>1</td>\n",
       "      <td>dgeneration-hd</td>\n",
       "      <td>D/Generation HD</td>\n",
       "      <td>NaN</td>\n",
       "      <td>2015-10-23</td>\n",
       "      <td>False</td>\n",
       "      <td>2019-09-17T11:58:57</td>\n",
       "      <td>http://dgeneration.net</td>\n",
       "      <td>0.0</td>\n",
       "      <td>0</td>\n",
       "      <td>...</td>\n",
       "      <td>West Coast Software</td>\n",
       "      <td>Adventure||Puzzle</td>\n",
       "      <td>West Coast Software</td>\n",
       "      <td>Everyone 10+</td>\n",
       "      <td>4</td>\n",
       "      <td>88</td>\n",
       "      <td>2</td>\n",
       "      <td>2</td>\n",
       "      <td>0</td>\n",
       "      <td>0</td>\n",
       "    </tr>\n",
       "    <tr>\n",
       "      <th>1</th>\n",
       "      <td>10</td>\n",
       "      <td>g-prime</td>\n",
       "      <td>G Prime Into The Rain</td>\n",
       "      <td>NaN</td>\n",
       "      <td>2016-01-06</td>\n",
       "      <td>False</td>\n",
       "      <td>2019-11-06T23:04:19</td>\n",
       "      <td>NaN</td>\n",
       "      <td>0.0</td>\n",
       "      <td>0</td>\n",
       "      <td>...</td>\n",
       "      <td>Soma Games</td>\n",
       "      <td>Simulation||Indie</td>\n",
       "      <td>Immanitas Entertainment||Code-Monkeys</td>\n",
       "      <td>Everyone</td>\n",
       "      <td>2</td>\n",
       "      <td>42</td>\n",
       "      <td>2</td>\n",
       "      <td>0</td>\n",
       "      <td>0</td>\n",
       "      <td>0</td>\n",
       "    </tr>\n",
       "    <tr>\n",
       "      <th>2</th>\n",
       "      <td>100</td>\n",
       "      <td>land-sliders</td>\n",
       "      <td>Land Sliders</td>\n",
       "      <td>NaN</td>\n",
       "      <td>2015-09-24</td>\n",
       "      <td>False</td>\n",
       "      <td>2019-10-22T13:56:16</td>\n",
       "      <td>http://prettygreat.com</td>\n",
       "      <td>0.0</td>\n",
       "      <td>0</td>\n",
       "      <td>...</td>\n",
       "      <td>Prettygreat Pty</td>\n",
       "      <td>Adventure||Arcade</td>\n",
       "      <td>Prettygreat Pty</td>\n",
       "      <td>Everyone 10+</td>\n",
       "      <td>0</td>\n",
       "      <td>2</td>\n",
       "      <td>2</td>\n",
       "      <td>0</td>\n",
       "      <td>1</td>\n",
       "      <td>0</td>\n",
       "    </tr>\n",
       "    <tr>\n",
       "      <th>3</th>\n",
       "      <td>1000</td>\n",
       "      <td>pixel-gear</td>\n",
       "      <td>Pixel Gear</td>\n",
       "      <td>NaN</td>\n",
       "      <td>2016-10-20</td>\n",
       "      <td>False</td>\n",
       "      <td>2019-08-28T22:16:02</td>\n",
       "      <td>https://www.facebook.com/Geronimo-Interactive-...</td>\n",
       "      <td>0.0</td>\n",
       "      <td>0</td>\n",
       "      <td>...</td>\n",
       "      <td>Oasis Games||Geronimo Interactive</td>\n",
       "      <td>Action||Indie</td>\n",
       "      <td>Geronimo Interactive</td>\n",
       "      <td>Teen</td>\n",
       "      <td>0</td>\n",
       "      <td>1</td>\n",
       "      <td>0</td>\n",
       "      <td>0</td>\n",
       "      <td>0</td>\n",
       "      <td>0</td>\n",
       "    </tr>\n",
       "    <tr>\n",
       "      <th>4</th>\n",
       "      <td>10000</td>\n",
       "      <td>gods-and-idols</td>\n",
       "      <td>Gods and Idols</td>\n",
       "      <td>NaN</td>\n",
       "      <td>2016-12-12</td>\n",
       "      <td>False</td>\n",
       "      <td>2019-09-17T13:37:13</td>\n",
       "      <td>http://www.godsandidols.com/</td>\n",
       "      <td>0.0</td>\n",
       "      <td>1</td>\n",
       "      <td>...</td>\n",
       "      <td>Viking Tao</td>\n",
       "      <td>RPG||Strategy||Massively Multiplayer</td>\n",
       "      <td>Viking Tao</td>\n",
       "      <td>NaN</td>\n",
       "      <td>2</td>\n",
       "      <td>79</td>\n",
       "      <td>0</td>\n",
       "      <td>0</td>\n",
       "      <td>0</td>\n",
       "      <td>0</td>\n",
       "    </tr>\n",
       "  </tbody>\n",
       "</table>\n",
       "<p>5 rows × 27 columns</p>\n",
       "</div>"
      ],
      "text/plain": [
       "      id            slug                   name  metacritic    released  \\\n",
       "0      1  dgeneration-hd        D/Generation HD         NaN  2015-10-23   \n",
       "1     10         g-prime  G Prime Into The Rain         NaN  2016-01-06   \n",
       "2    100    land-sliders           Land Sliders         NaN  2015-09-24   \n",
       "3   1000      pixel-gear             Pixel Gear         NaN  2016-10-20   \n",
       "4  10000  gods-and-idols         Gods and Idols         NaN  2016-12-12   \n",
       "\n",
       "     tba              updated  \\\n",
       "0  False  2019-09-17T11:58:57   \n",
       "1  False  2019-11-06T23:04:19   \n",
       "2  False  2019-10-22T13:56:16   \n",
       "3  False  2019-08-28T22:16:02   \n",
       "4  False  2019-09-17T13:37:13   \n",
       "\n",
       "                                             website  rating  rating_top  ...  \\\n",
       "0                             http://dgeneration.net     0.0           0  ...   \n",
       "1                                                NaN     0.0           0  ...   \n",
       "2                             http://prettygreat.com     0.0           0  ...   \n",
       "3  https://www.facebook.com/Geronimo-Interactive-...     0.0           0  ...   \n",
       "4                       http://www.godsandidols.com/     0.0           1  ...   \n",
       "\n",
       "                          developers                                genres  \\\n",
       "0                West Coast Software                     Adventure||Puzzle   \n",
       "1                         Soma Games                     Simulation||Indie   \n",
       "2                    Prettygreat Pty                     Adventure||Arcade   \n",
       "3  Oasis Games||Geronimo Interactive                         Action||Indie   \n",
       "4                         Viking Tao  RPG||Strategy||Massively Multiplayer   \n",
       "\n",
       "                              publishers   esrb_rating  added_status_yet  \\\n",
       "0                    West Coast Software  Everyone 10+                 4   \n",
       "1  Immanitas Entertainment||Code-Monkeys      Everyone                 2   \n",
       "2                        Prettygreat Pty  Everyone 10+                 0   \n",
       "3                   Geronimo Interactive          Teen                 0   \n",
       "4                             Viking Tao           NaN                 2   \n",
       "\n",
       "   added_status_owned added_status_beaten added_status_toplay  \\\n",
       "0                  88                   2                   2   \n",
       "1                  42                   2                   0   \n",
       "2                   2                   2                   0   \n",
       "3                   1                   0                   0   \n",
       "4                  79                   0                   0   \n",
       "\n",
       "  added_status_dropped added_status_playing  \n",
       "0                    0                    0  \n",
       "1                    0                    0  \n",
       "2                    1                    0  \n",
       "3                    0                    0  \n",
       "4                    0                    0  \n",
       "\n",
       "[5 rows x 27 columns]"
      ]
     },
     "execution_count": 4,
     "metadata": {},
     "output_type": "execute_result"
    }
   ],
   "source": [
    "game_data.head()"
   ]
  },
  {
   "cell_type": "markdown",
   "metadata": {},
   "source": [
    "### Data Cleaning"
   ]
  },
  {
   "cell_type": "code",
   "execution_count": 5,
   "metadata": {},
   "outputs": [
    {
     "data": {
      "text/html": [
       "<div>\n",
       "<style scoped>\n",
       "    .dataframe tbody tr th:only-of-type {\n",
       "        vertical-align: middle;\n",
       "    }\n",
       "\n",
       "    .dataframe tbody tr th {\n",
       "        vertical-align: top;\n",
       "    }\n",
       "\n",
       "    .dataframe thead th {\n",
       "        text-align: right;\n",
       "    }\n",
       "</style>\n",
       "<table border=\"1\" class=\"dataframe\">\n",
       "  <thead>\n",
       "    <tr style=\"text-align: right;\">\n",
       "      <th></th>\n",
       "      <th>count</th>\n",
       "      <th>%</th>\n",
       "    </tr>\n",
       "  </thead>\n",
       "  <tbody>\n",
       "    <tr>\n",
       "      <th>id</th>\n",
       "      <td>0</td>\n",
       "      <td>0.000000</td>\n",
       "    </tr>\n",
       "    <tr>\n",
       "      <th>tba</th>\n",
       "      <td>0</td>\n",
       "      <td>0.000000</td>\n",
       "    </tr>\n",
       "    <tr>\n",
       "      <th>updated</th>\n",
       "      <td>0</td>\n",
       "      <td>0.000000</td>\n",
       "    </tr>\n",
       "    <tr>\n",
       "      <th>rating</th>\n",
       "      <td>0</td>\n",
       "      <td>0.000000</td>\n",
       "    </tr>\n",
       "    <tr>\n",
       "      <th>rating_top</th>\n",
       "      <td>0</td>\n",
       "      <td>0.000000</td>\n",
       "    </tr>\n",
       "    <tr>\n",
       "      <th>playtime</th>\n",
       "      <td>0</td>\n",
       "      <td>0.000000</td>\n",
       "    </tr>\n",
       "    <tr>\n",
       "      <th>achievements_count</th>\n",
       "      <td>0</td>\n",
       "      <td>0.000000</td>\n",
       "    </tr>\n",
       "    <tr>\n",
       "      <th>ratings_count</th>\n",
       "      <td>0</td>\n",
       "      <td>0.000000</td>\n",
       "    </tr>\n",
       "    <tr>\n",
       "      <th>suggestions_count</th>\n",
       "      <td>0</td>\n",
       "      <td>0.000000</td>\n",
       "    </tr>\n",
       "    <tr>\n",
       "      <th>game_series_count</th>\n",
       "      <td>0</td>\n",
       "      <td>0.000000</td>\n",
       "    </tr>\n",
       "    <tr>\n",
       "      <th>reviews_count</th>\n",
       "      <td>0</td>\n",
       "      <td>0.000000</td>\n",
       "    </tr>\n",
       "    <tr>\n",
       "      <th>added_status_yet</th>\n",
       "      <td>0</td>\n",
       "      <td>0.000000</td>\n",
       "    </tr>\n",
       "    <tr>\n",
       "      <th>added_status_owned</th>\n",
       "      <td>0</td>\n",
       "      <td>0.000000</td>\n",
       "    </tr>\n",
       "    <tr>\n",
       "      <th>added_status_beaten</th>\n",
       "      <td>0</td>\n",
       "      <td>0.000000</td>\n",
       "    </tr>\n",
       "    <tr>\n",
       "      <th>added_status_toplay</th>\n",
       "      <td>0</td>\n",
       "      <td>0.000000</td>\n",
       "    </tr>\n",
       "    <tr>\n",
       "      <th>added_status_dropped</th>\n",
       "      <td>0</td>\n",
       "      <td>0.000000</td>\n",
       "    </tr>\n",
       "    <tr>\n",
       "      <th>added_status_playing</th>\n",
       "      <td>0</td>\n",
       "      <td>0.000000</td>\n",
       "    </tr>\n",
       "    <tr>\n",
       "      <th>slug</th>\n",
       "      <td>2</td>\n",
       "      <td>0.000422</td>\n",
       "    </tr>\n",
       "    <tr>\n",
       "      <th>name</th>\n",
       "      <td>2</td>\n",
       "      <td>0.000422</td>\n",
       "    </tr>\n",
       "    <tr>\n",
       "      <th>platforms</th>\n",
       "      <td>3986</td>\n",
       "      <td>0.840189</td>\n",
       "    </tr>\n",
       "    <tr>\n",
       "      <th>developers</th>\n",
       "      <td>8366</td>\n",
       "      <td>1.763428</td>\n",
       "    </tr>\n",
       "    <tr>\n",
       "      <th>released</th>\n",
       "      <td>24199</td>\n",
       "      <td>5.100787</td>\n",
       "    </tr>\n",
       "    <tr>\n",
       "      <th>genres</th>\n",
       "      <td>103185</td>\n",
       "      <td>21.749853</td>\n",
       "    </tr>\n",
       "    <tr>\n",
       "      <th>publishers</th>\n",
       "      <td>333384</td>\n",
       "      <td>70.272355</td>\n",
       "    </tr>\n",
       "    <tr>\n",
       "      <th>website</th>\n",
       "      <td>409376</td>\n",
       "      <td>86.290331</td>\n",
       "    </tr>\n",
       "    <tr>\n",
       "      <th>esrb_rating</th>\n",
       "      <td>418553</td>\n",
       "      <td>88.224705</td>\n",
       "    </tr>\n",
       "    <tr>\n",
       "      <th>metacritic</th>\n",
       "      <td>469684</td>\n",
       "      <td>99.002354</td>\n",
       "    </tr>\n",
       "  </tbody>\n",
       "</table>\n",
       "</div>"
      ],
      "text/plain": [
       "                       count          %\n",
       "id                         0   0.000000\n",
       "tba                        0   0.000000\n",
       "updated                    0   0.000000\n",
       "rating                     0   0.000000\n",
       "rating_top                 0   0.000000\n",
       "playtime                   0   0.000000\n",
       "achievements_count         0   0.000000\n",
       "ratings_count              0   0.000000\n",
       "suggestions_count          0   0.000000\n",
       "game_series_count          0   0.000000\n",
       "reviews_count              0   0.000000\n",
       "added_status_yet           0   0.000000\n",
       "added_status_owned         0   0.000000\n",
       "added_status_beaten        0   0.000000\n",
       "added_status_toplay        0   0.000000\n",
       "added_status_dropped       0   0.000000\n",
       "added_status_playing       0   0.000000\n",
       "slug                       2   0.000422\n",
       "name                       2   0.000422\n",
       "platforms               3986   0.840189\n",
       "developers              8366   1.763428\n",
       "released               24199   5.100787\n",
       "genres                103185  21.749853\n",
       "publishers            333384  70.272355\n",
       "website               409376  86.290331\n",
       "esrb_rating           418553  88.224705\n",
       "metacritic            469684  99.002354"
      ]
     },
     "execution_count": 5,
     "metadata": {},
     "output_type": "execute_result"
    }
   ],
   "source": [
    "#finding missing values\n",
    "missing = pd.concat([game_data.isnull().sum(), 100 * game_data.isnull().mean()], axis=1)\n",
    "missing.columns=['count', '%']\n",
    "missing.sort_values(by=['count', '%'])"
   ]
  },
  {
   "cell_type": "markdown",
   "metadata": {},
   "source": [
    "I will begin by dropping the columns that are not relevant to what I want to learn from this data. Websites are not relevant or measurable. I will also drop the slug column and id column as they are identifier values that are already taken care of by the name column."
   ]
  },
  {
   "cell_type": "code",
   "execution_count": 6,
   "metadata": {},
   "outputs": [],
   "source": [
    "game_data.drop(columns='website', inplace=True)\n",
    "game_data.drop(columns='slug', inplace=True)\n",
    "game_data.drop(columns='id', inplace=True)"
   ]
  },
  {
   "cell_type": "code",
   "execution_count": 7,
   "metadata": {},
   "outputs": [
    {
     "data": {
      "text/plain": [
       "Index(['name', 'metacritic', 'released', 'tba', 'updated', 'rating',\n",
       "       'rating_top', 'playtime', 'achievements_count', 'ratings_count',\n",
       "       'suggestions_count', 'game_series_count', 'reviews_count', 'platforms',\n",
       "       'developers', 'genres', 'publishers', 'esrb_rating', 'added_status_yet',\n",
       "       'added_status_owned', 'added_status_beaten', 'added_status_toplay',\n",
       "       'added_status_dropped', 'added_status_playing'],\n",
       "      dtype='object')"
      ]
     },
     "execution_count": 7,
     "metadata": {},
     "output_type": "execute_result"
    }
   ],
   "source": [
    "game_data.columns"
   ]
  },
  {
   "cell_type": "markdown",
   "metadata": {},
   "source": [
    "Now I want to see why two of the games have no names."
   ]
  },
  {
   "cell_type": "code",
   "execution_count": 8,
   "metadata": {},
   "outputs": [
    {
     "name": "stdout",
     "output_type": "stream",
     "text": [
      "      name  metacritic    released    tba              updated  rating  \\\n",
      "128    NaN         NaN  2018-01-09  False  2020-05-08T13:42:08     0.0   \n",
      "20727  NaN         NaN  2016-09-25  False  2019-08-28T23:23:49     0.0   \n",
      "\n",
      "       rating_top  playtime  achievements_count  ratings_count  ...  \\\n",
      "128             4         0                   0              5  ...   \n",
      "20727           0         0                   0              0  ...   \n",
      "\n",
      "            developers             genres  publishers esrb_rating  \\\n",
      "128              Jusiv  Adventure||Puzzle         NaN         NaN   \n",
      "20727  The Paper Pilot          Adventure         NaN         NaN   \n",
      "\n",
      "      added_status_yet added_status_owned added_status_beaten  \\\n",
      "128                  0                  3                   0   \n",
      "20727                0                  0                   0   \n",
      "\n",
      "      added_status_toplay  added_status_dropped  added_status_playing  \n",
      "128                     1                     0                     1  \n",
      "20727                   0                     0                     0  \n",
      "\n",
      "[2 rows x 24 columns]\n"
     ]
    }
   ],
   "source": [
    "print(game_data[game_data['name'].isna()])"
   ]
  },
  {
   "cell_type": "markdown",
   "metadata": {},
   "source": [
    "The first game has only 3 people who own it and the second is owned by noone. I feel comfortable dropping these two rows."
   ]
  },
  {
   "cell_type": "code",
   "execution_count": 9,
   "metadata": {},
   "outputs": [],
   "source": [
    "game_data = game_data[game_data['name'].notna()]"
   ]
  },
  {
   "cell_type": "code",
   "execution_count": 10,
   "metadata": {},
   "outputs": [
    {
     "name": "stdout",
     "output_type": "stream",
     "text": [
      "<class 'pandas.core.frame.DataFrame'>\n",
      "Int64Index: 474415 entries, 0 to 474416\n",
      "Data columns (total 24 columns):\n",
      " #   Column                Non-Null Count   Dtype  \n",
      "---  ------                --------------   -----  \n",
      " 0   name                  474415 non-null  object \n",
      " 1   metacritic            4733 non-null    float64\n",
      " 2   released              450216 non-null  object \n",
      " 3   tba                   474415 non-null  bool   \n",
      " 4   updated               474415 non-null  object \n",
      " 5   rating                474415 non-null  float64\n",
      " 6   rating_top            474415 non-null  int64  \n",
      " 7   playtime              474415 non-null  int64  \n",
      " 8   achievements_count    474415 non-null  int64  \n",
      " 9   ratings_count         474415 non-null  int64  \n",
      " 10  suggestions_count     474415 non-null  int64  \n",
      " 11  game_series_count     474415 non-null  int64  \n",
      " 12  reviews_count         474415 non-null  int64  \n",
      " 13  platforms             470429 non-null  object \n",
      " 14  developers            466049 non-null  object \n",
      " 15  genres                371230 non-null  object \n",
      " 16  publishers            141033 non-null  object \n",
      " 17  esrb_rating           55864 non-null   object \n",
      " 18  added_status_yet      474415 non-null  int64  \n",
      " 19  added_status_owned    474415 non-null  int64  \n",
      " 20  added_status_beaten   474415 non-null  int64  \n",
      " 21  added_status_toplay   474415 non-null  int64  \n",
      " 22  added_status_dropped  474415 non-null  int64  \n",
      " 23  added_status_playing  474415 non-null  int64  \n",
      "dtypes: bool(1), float64(2), int64(13), object(8)\n",
      "memory usage: 87.3+ MB\n"
     ]
    }
   ],
   "source": [
    "game_data.info()"
   ]
  },
  {
   "cell_type": "markdown",
   "metadata": {},
   "source": [
    "Nearly all of the values for metacritic score, esrb rating, and publisher are missing so they will not be useful for making assumptions about the data so I will drop those as well."
   ]
  },
  {
   "cell_type": "code",
   "execution_count": 11,
   "metadata": {},
   "outputs": [],
   "source": [
    "game_data.drop(columns='metacritic', inplace=True)\n",
    "game_data.drop(columns='publishers', inplace=True)\n",
    "game_data.drop(columns='esrb_rating', inplace=True)"
   ]
  },
  {
   "cell_type": "markdown",
   "metadata": {},
   "source": [
    "Games with TBA status 'True' have not been released yet and thus should not be included as they can't be rated or beaten by users."
   ]
  },
  {
   "cell_type": "code",
   "execution_count": 12,
   "metadata": {},
   "outputs": [],
   "source": [
    "game_data = game_data[game_data['tba'] != True]"
   ]
  },
  {
   "cell_type": "code",
   "execution_count": 13,
   "metadata": {},
   "outputs": [
    {
     "data": {
      "text/plain": [
       "array([False])"
      ]
     },
     "execution_count": 13,
     "metadata": {},
     "output_type": "execute_result"
    }
   ],
   "source": [
    "#confirming tba column only shows false entries\n",
    "game_data.tba.unique()"
   ]
  },
  {
   "cell_type": "markdown",
   "metadata": {},
   "source": [
    "Now that the all the unreleased games have been dropped from the dataframe I no longer need the tba column"
   ]
  },
  {
   "cell_type": "code",
   "execution_count": 14,
   "metadata": {},
   "outputs": [],
   "source": [
    "game_data.drop(columns='tba', inplace=True)"
   ]
  },
  {
   "cell_type": "markdown",
   "metadata": {},
   "source": [
    "There are missing release dates and I don't want to use any of the methods I know to fill the values as that could give me an incorrect view on whether release date impacts enjoyment. I could drop the rows with missing release dates, but I see that there are no missing entries for the last date the game was updated so I will use that as an indicator of the age of the game and drop the release date. I am only interested in the year so I will drop everything after the first 4 characters"
   ]
  },
  {
   "cell_type": "code",
   "execution_count": 15,
   "metadata": {},
   "outputs": [],
   "source": [
    "#dropping characters after year in 'updated'\n",
    "game_data['updated'] = [x[:4] for x in game_data['updated']]"
   ]
  },
  {
   "cell_type": "code",
   "execution_count": 16,
   "metadata": {},
   "outputs": [
    {
     "data": {
      "text/plain": [
       "array(['2019', '2020'], dtype=object)"
      ]
     },
     "execution_count": 16,
     "metadata": {},
     "output_type": "execute_result"
    }
   ],
   "source": [
    "game_data.updated.unique()"
   ]
  },
  {
   "cell_type": "markdown",
   "metadata": {},
   "source": [
    "Seeing that there are only 2 years, this will not be very helpful for grouping by age, so I will drop the missing release dates and use that after all. Since updated is not useful, I will drop it."
   ]
  },
  {
   "cell_type": "code",
   "execution_count": 17,
   "metadata": {},
   "outputs": [],
   "source": [
    "game_data.drop(columns='updated', inplace=True)"
   ]
  },
  {
   "cell_type": "code",
   "execution_count": 18,
   "metadata": {},
   "outputs": [],
   "source": [
    "#dropping rows with missing release date\n",
    "game_data = game_data[game_data['released'].notna()]"
   ]
  },
  {
   "cell_type": "code",
   "execution_count": 19,
   "metadata": {},
   "outputs": [],
   "source": [
    "#dropping characters after year in 'released'\n",
    "game_data['released'] = [x[:4] for x in game_data['released']]"
   ]
  },
  {
   "cell_type": "code",
   "execution_count": 20,
   "metadata": {},
   "outputs": [
    {
     "data": {
      "text/plain": [
       "array(['2015', '2016', '2017', '2014', '2018', '2010', '2013', '2000',\n",
       "       '1998', '2005', '2007', '2009', '2012', '2020', '2019', '2003',\n",
       "       '2001', '2008', '2004', '2011', '1997', '2006', '1999', '1994',\n",
       "       '2002', '1988', '1995', '1984', '1996', '1989', '1991', '1993',\n",
       "       '1990', '1992', '2021', '1987', '1986', '1985', '1979', '2033',\n",
       "       '1980', '1983', '1982', '2027', '2024', '1981', '2030', '2022',\n",
       "       '1970', '2029', '1973', '1971', '1977', '1978', '1976', '1975',\n",
       "       '1972', '1974', '1962'], dtype=object)"
      ]
     },
     "execution_count": 20,
     "metadata": {},
     "output_type": "execute_result"
    }
   ],
   "source": [
    "game_data.released.unique()"
   ]
  },
  {
   "cell_type": "markdown",
   "metadata": {},
   "source": [
    "The platforms, developers, and genres categories are categories so I do not want to fill the missing values for them without knowing what they should be. If there were only a few missing values I could look up the games and fill the data myself, but there are too many missing values for that so I will have to drop them. That will still leave me with nearly 350,000 games which is a very lage sample size."
   ]
  },
  {
   "cell_type": "code",
   "execution_count": 22,
   "metadata": {},
   "outputs": [],
   "source": [
    "game_data = game_data[game_data['platforms'].notna()]\n",
    "game_data = game_data[game_data['developers'].notna()]\n",
    "game_data = game_data[game_data['genres'].notna()]"
   ]
  },
  {
   "cell_type": "code",
   "execution_count": 23,
   "metadata": {},
   "outputs": [
    {
     "name": "stdout",
     "output_type": "stream",
     "text": [
      "<class 'pandas.core.frame.DataFrame'>\n",
      "Int64Index: 345103 entries, 0 to 474416\n",
      "Data columns (total 19 columns):\n",
      " #   Column                Non-Null Count   Dtype  \n",
      "---  ------                --------------   -----  \n",
      " 0   name                  345103 non-null  object \n",
      " 1   released              345103 non-null  object \n",
      " 2   rating                345103 non-null  float64\n",
      " 3   rating_top            345103 non-null  int64  \n",
      " 4   playtime              345103 non-null  int64  \n",
      " 5   achievements_count    345103 non-null  int64  \n",
      " 6   ratings_count         345103 non-null  int64  \n",
      " 7   suggestions_count     345103 non-null  int64  \n",
      " 8   game_series_count     345103 non-null  int64  \n",
      " 9   reviews_count         345103 non-null  int64  \n",
      " 10  platforms             345103 non-null  object \n",
      " 11  developers            345103 non-null  object \n",
      " 12  genres                345103 non-null  object \n",
      " 13  added_status_yet      345103 non-null  int64  \n",
      " 14  added_status_owned    345103 non-null  int64  \n",
      " 15  added_status_beaten   345103 non-null  int64  \n",
      " 16  added_status_toplay   345103 non-null  int64  \n",
      " 17  added_status_dropped  345103 non-null  int64  \n",
      " 18  added_status_playing  345103 non-null  int64  \n",
      "dtypes: float64(1), int64(13), object(5)\n",
      "memory usage: 52.7+ MB\n"
     ]
    }
   ],
   "source": [
    "game_data.info()"
   ]
  },
  {
   "cell_type": "markdown",
   "metadata": {},
   "source": [
    "Now that I have no missing values I will check to see if there are any unusual results in the remaining columns"
   ]
  },
  {
   "cell_type": "code",
   "execution_count": 24,
   "metadata": {},
   "outputs": [
    {
     "data": {
      "text/html": [
       "<div>\n",
       "<style scoped>\n",
       "    .dataframe tbody tr th:only-of-type {\n",
       "        vertical-align: middle;\n",
       "    }\n",
       "\n",
       "    .dataframe tbody tr th {\n",
       "        vertical-align: top;\n",
       "    }\n",
       "\n",
       "    .dataframe thead th {\n",
       "        text-align: right;\n",
       "    }\n",
       "</style>\n",
       "<table border=\"1\" class=\"dataframe\">\n",
       "  <thead>\n",
       "    <tr style=\"text-align: right;\">\n",
       "      <th></th>\n",
       "      <th>rating</th>\n",
       "      <th>rating_top</th>\n",
       "      <th>playtime</th>\n",
       "      <th>achievements_count</th>\n",
       "      <th>ratings_count</th>\n",
       "      <th>suggestions_count</th>\n",
       "      <th>game_series_count</th>\n",
       "      <th>reviews_count</th>\n",
       "      <th>added_status_yet</th>\n",
       "      <th>added_status_owned</th>\n",
       "      <th>added_status_beaten</th>\n",
       "      <th>added_status_toplay</th>\n",
       "      <th>added_status_dropped</th>\n",
       "      <th>added_status_playing</th>\n",
       "    </tr>\n",
       "  </thead>\n",
       "  <tbody>\n",
       "    <tr>\n",
       "      <th>count</th>\n",
       "      <td>345103.000000</td>\n",
       "      <td>345103.000000</td>\n",
       "      <td>345103.000000</td>\n",
       "      <td>345103.000000</td>\n",
       "      <td>345103.000000</td>\n",
       "      <td>345103.000000</td>\n",
       "      <td>345103.000000</td>\n",
       "      <td>345103.000000</td>\n",
       "      <td>345103.000000</td>\n",
       "      <td>345103.000000</td>\n",
       "      <td>345103.000000</td>\n",
       "      <td>345103.000000</td>\n",
       "      <td>345103.000000</td>\n",
       "      <td>345103.000000</td>\n",
       "    </tr>\n",
       "    <tr>\n",
       "      <th>mean</th>\n",
       "      <td>0.108067</td>\n",
       "      <td>0.123835</td>\n",
       "      <td>0.264083</td>\n",
       "      <td>5.871134</td>\n",
       "      <td>2.836802</td>\n",
       "      <td>99.639858</td>\n",
       "      <td>0.052373</td>\n",
       "      <td>2.862769</td>\n",
       "      <td>0.911244</td>\n",
       "      <td>15.000220</td>\n",
       "      <td>1.794505</td>\n",
       "      <td>0.542360</td>\n",
       "      <td>0.893806</td>\n",
       "      <td>0.195255</td>\n",
       "    </tr>\n",
       "    <tr>\n",
       "      <th>std</th>\n",
       "      <td>0.608387</td>\n",
       "      <td>0.682570</td>\n",
       "      <td>4.912234</td>\n",
       "      <td>135.861944</td>\n",
       "      <td>42.605726</td>\n",
       "      <td>120.465975</td>\n",
       "      <td>0.840334</td>\n",
       "      <td>42.972229</td>\n",
       "      <td>10.492406</td>\n",
       "      <td>149.775845</td>\n",
       "      <td>33.250693</td>\n",
       "      <td>10.385187</td>\n",
       "      <td>12.211532</td>\n",
       "      <td>4.501924</td>\n",
       "    </tr>\n",
       "    <tr>\n",
       "      <th>min</th>\n",
       "      <td>0.000000</td>\n",
       "      <td>0.000000</td>\n",
       "      <td>0.000000</td>\n",
       "      <td>0.000000</td>\n",
       "      <td>0.000000</td>\n",
       "      <td>0.000000</td>\n",
       "      <td>0.000000</td>\n",
       "      <td>0.000000</td>\n",
       "      <td>0.000000</td>\n",
       "      <td>0.000000</td>\n",
       "      <td>0.000000</td>\n",
       "      <td>0.000000</td>\n",
       "      <td>0.000000</td>\n",
       "      <td>0.000000</td>\n",
       "    </tr>\n",
       "    <tr>\n",
       "      <th>25%</th>\n",
       "      <td>0.000000</td>\n",
       "      <td>0.000000</td>\n",
       "      <td>0.000000</td>\n",
       "      <td>0.000000</td>\n",
       "      <td>0.000000</td>\n",
       "      <td>20.000000</td>\n",
       "      <td>0.000000</td>\n",
       "      <td>0.000000</td>\n",
       "      <td>0.000000</td>\n",
       "      <td>0.000000</td>\n",
       "      <td>0.000000</td>\n",
       "      <td>0.000000</td>\n",
       "      <td>0.000000</td>\n",
       "      <td>0.000000</td>\n",
       "    </tr>\n",
       "    <tr>\n",
       "      <th>50%</th>\n",
       "      <td>0.000000</td>\n",
       "      <td>0.000000</td>\n",
       "      <td>0.000000</td>\n",
       "      <td>0.000000</td>\n",
       "      <td>0.000000</td>\n",
       "      <td>54.000000</td>\n",
       "      <td>0.000000</td>\n",
       "      <td>0.000000</td>\n",
       "      <td>0.000000</td>\n",
       "      <td>0.000000</td>\n",
       "      <td>0.000000</td>\n",
       "      <td>0.000000</td>\n",
       "      <td>0.000000</td>\n",
       "      <td>0.000000</td>\n",
       "    </tr>\n",
       "    <tr>\n",
       "      <th>75%</th>\n",
       "      <td>0.000000</td>\n",
       "      <td>0.000000</td>\n",
       "      <td>0.000000</td>\n",
       "      <td>0.000000</td>\n",
       "      <td>0.000000</td>\n",
       "      <td>132.000000</td>\n",
       "      <td>0.000000</td>\n",
       "      <td>0.000000</td>\n",
       "      <td>0.000000</td>\n",
       "      <td>0.000000</td>\n",
       "      <td>0.000000</td>\n",
       "      <td>0.000000</td>\n",
       "      <td>0.000000</td>\n",
       "      <td>0.000000</td>\n",
       "    </tr>\n",
       "    <tr>\n",
       "      <th>max</th>\n",
       "      <td>4.860000</td>\n",
       "      <td>5.000000</td>\n",
       "      <td>1473.000000</td>\n",
       "      <td>12322.000000</td>\n",
       "      <td>4289.000000</td>\n",
       "      <td>1839.000000</td>\n",
       "      <td>28.000000</td>\n",
       "      <td>4334.000000</td>\n",
       "      <td>635.000000</td>\n",
       "      <td>8298.000000</td>\n",
       "      <td>3533.000000</td>\n",
       "      <td>2325.000000</td>\n",
       "      <td>1092.000000</td>\n",
       "      <td>644.000000</td>\n",
       "    </tr>\n",
       "  </tbody>\n",
       "</table>\n",
       "</div>"
      ],
      "text/plain": [
       "              rating     rating_top       playtime  achievements_count  \\\n",
       "count  345103.000000  345103.000000  345103.000000       345103.000000   \n",
       "mean        0.108067       0.123835       0.264083            5.871134   \n",
       "std         0.608387       0.682570       4.912234          135.861944   \n",
       "min         0.000000       0.000000       0.000000            0.000000   \n",
       "25%         0.000000       0.000000       0.000000            0.000000   \n",
       "50%         0.000000       0.000000       0.000000            0.000000   \n",
       "75%         0.000000       0.000000       0.000000            0.000000   \n",
       "max         4.860000       5.000000    1473.000000        12322.000000   \n",
       "\n",
       "       ratings_count  suggestions_count  game_series_count  reviews_count  \\\n",
       "count  345103.000000      345103.000000      345103.000000  345103.000000   \n",
       "mean        2.836802          99.639858           0.052373       2.862769   \n",
       "std        42.605726         120.465975           0.840334      42.972229   \n",
       "min         0.000000           0.000000           0.000000       0.000000   \n",
       "25%         0.000000          20.000000           0.000000       0.000000   \n",
       "50%         0.000000          54.000000           0.000000       0.000000   \n",
       "75%         0.000000         132.000000           0.000000       0.000000   \n",
       "max      4289.000000        1839.000000          28.000000    4334.000000   \n",
       "\n",
       "       added_status_yet  added_status_owned  added_status_beaten  \\\n",
       "count     345103.000000       345103.000000        345103.000000   \n",
       "mean           0.911244           15.000220             1.794505   \n",
       "std           10.492406          149.775845            33.250693   \n",
       "min            0.000000            0.000000             0.000000   \n",
       "25%            0.000000            0.000000             0.000000   \n",
       "50%            0.000000            0.000000             0.000000   \n",
       "75%            0.000000            0.000000             0.000000   \n",
       "max          635.000000         8298.000000          3533.000000   \n",
       "\n",
       "       added_status_toplay  added_status_dropped  added_status_playing  \n",
       "count        345103.000000         345103.000000         345103.000000  \n",
       "mean              0.542360              0.893806              0.195255  \n",
       "std              10.385187             12.211532              4.501924  \n",
       "min               0.000000              0.000000              0.000000  \n",
       "25%               0.000000              0.000000              0.000000  \n",
       "50%               0.000000              0.000000              0.000000  \n",
       "75%               0.000000              0.000000              0.000000  \n",
       "max            2325.000000           1092.000000            644.000000  "
      ]
     },
     "execution_count": 24,
     "metadata": {},
     "output_type": "execute_result"
    }
   ],
   "source": [
    "game_data.describe()"
   ]
  },
  {
   "cell_type": "code",
   "execution_count": 25,
   "metadata": {},
   "outputs": [
    {
     "data": {
      "text/plain": [
       "name                    314287\n",
       "released                314287\n",
       "rating                  314287\n",
       "rating_top              314287\n",
       "playtime                314287\n",
       "achievements_count      314287\n",
       "ratings_count           314287\n",
       "suggestions_count       314287\n",
       "game_series_count       314287\n",
       "reviews_count           314287\n",
       "platforms               314287\n",
       "developers              314287\n",
       "genres                  314287\n",
       "added_status_yet        314287\n",
       "added_status_owned      314287\n",
       "added_status_beaten     314287\n",
       "added_status_toplay     314287\n",
       "added_status_dropped    314287\n",
       "added_status_playing    314287\n",
       "dtype: int64"
      ]
     },
     "execution_count": 25,
     "metadata": {},
     "output_type": "execute_result"
    }
   ],
   "source": [
    "game_data[game_data['ratings_count']==0].count()"
   ]
  },
  {
   "cell_type": "markdown",
   "metadata": {},
   "source": [
    "Nearly all of the games have no ratings so game rating will not be a useful target metric. I will drop the columns related to ratings."
   ]
  },
  {
   "cell_type": "code",
   "execution_count": 26,
   "metadata": {},
   "outputs": [],
   "source": [
    "game_data.drop(columns='rating', inplace=True)\n",
    "game_data.drop(columns='rating_top', inplace=True)\n",
    "game_data.drop(columns='ratings_count', inplace=True)\n",
    "game_data.drop(columns='reviews_count', inplace=True)"
   ]
  },
  {
   "cell_type": "code",
   "execution_count": 27,
   "metadata": {},
   "outputs": [
    {
     "data": {
      "text/plain": [
       "name                    324114\n",
       "released                324114\n",
       "playtime                324114\n",
       "achievements_count      324114\n",
       "suggestions_count       324114\n",
       "game_series_count       324114\n",
       "platforms               324114\n",
       "developers              324114\n",
       "genres                  324114\n",
       "added_status_yet        324114\n",
       "added_status_owned      324114\n",
       "added_status_beaten     324114\n",
       "added_status_toplay     324114\n",
       "added_status_dropped    324114\n",
       "added_status_playing    324114\n",
       "dtype: int64"
      ]
     },
     "execution_count": 27,
     "metadata": {},
     "output_type": "execute_result"
    }
   ],
   "source": [
    "game_data[game_data['playtime']==0].count()"
   ]
  },
  {
   "cell_type": "markdown",
   "metadata": {},
   "source": [
    "Like ratings, nearly all the values for 'playtime' are 0. Either this is missing data or the vast majority of games take less than an hour to play. either way, this will not be useful so I will drop the column."
   ]
  },
  {
   "cell_type": "code",
   "execution_count": 28,
   "metadata": {},
   "outputs": [],
   "source": [
    "game_data.drop(columns='playtime', inplace=True)"
   ]
  },
  {
   "cell_type": "code",
   "execution_count": 29,
   "metadata": {},
   "outputs": [
    {
     "data": {
      "text/plain": [
       "name                    329188\n",
       "released                329188\n",
       "achievements_count      329188\n",
       "suggestions_count       329188\n",
       "game_series_count       329188\n",
       "platforms               329188\n",
       "developers              329188\n",
       "genres                  329188\n",
       "added_status_yet        329188\n",
       "added_status_owned      329188\n",
       "added_status_beaten     329188\n",
       "added_status_toplay     329188\n",
       "added_status_dropped    329188\n",
       "added_status_playing    329188\n",
       "dtype: int64"
      ]
     },
     "execution_count": 29,
     "metadata": {},
     "output_type": "execute_result"
    }
   ],
   "source": [
    "game_data[game_data['achievements_count']==0].count()"
   ]
  },
  {
   "cell_type": "markdown",
   "metadata": {},
   "source": [
    "Nearly all of the games have no achievements. I could drop this column like the last few, but I think there could still be useful information here. Instead I will convert the column to a boolean value of whether or not there are achievements. I will name the new column 'has_achievements"
   ]
  },
  {
   "cell_type": "code",
   "execution_count": 30,
   "metadata": {},
   "outputs": [],
   "source": [
    "#create boolean column 'has_achievements'\n",
    "game_data['has_achievements'] = np.where(game_data['achievements_count']!=0, True, False)"
   ]
  },
  {
   "cell_type": "code",
   "execution_count": 31,
   "metadata": {},
   "outputs": [
    {
     "data": {
      "text/plain": [
       "name                    object\n",
       "released                object\n",
       "achievements_count       int64\n",
       "suggestions_count        int64\n",
       "game_series_count        int64\n",
       "platforms               object\n",
       "developers              object\n",
       "genres                  object\n",
       "added_status_yet         int64\n",
       "added_status_owned       int64\n",
       "added_status_beaten      int64\n",
       "added_status_toplay      int64\n",
       "added_status_dropped     int64\n",
       "added_status_playing     int64\n",
       "has_achievements          bool\n",
       "dtype: object"
      ]
     },
     "execution_count": 31,
     "metadata": {},
     "output_type": "execute_result"
    }
   ],
   "source": [
    "#confirm 'has_achievements' is bool\n",
    "game_data.dtypes"
   ]
  },
  {
   "cell_type": "code",
   "execution_count": 32,
   "metadata": {},
   "outputs": [],
   "source": [
    "game_data.drop(columns='achievements_count', inplace=True)"
   ]
  },
  {
   "cell_type": "code",
   "execution_count": 33,
   "metadata": {},
   "outputs": [
    {
     "data": {
      "text/plain": [
       "name                    342678\n",
       "released                342678\n",
       "suggestions_count       342678\n",
       "game_series_count       342678\n",
       "platforms               342678\n",
       "developers              342678\n",
       "genres                  342678\n",
       "added_status_yet        342678\n",
       "added_status_owned      342678\n",
       "added_status_beaten     342678\n",
       "added_status_toplay     342678\n",
       "added_status_dropped    342678\n",
       "added_status_playing    342678\n",
       "has_achievements        342678\n",
       "dtype: int64"
      ]
     },
     "execution_count": 33,
     "metadata": {},
     "output_type": "execute_result"
    }
   ],
   "source": [
    "game_data[game_data['game_series_count']==0].count()"
   ]
  },
  {
   "cell_type": "markdown",
   "metadata": {},
   "source": [
    "Another category that is mostly zeroes. Like achievements, I will turn this into a boolean value of whether or not the game is part of a series to see if that has an impact on enjoyment."
   ]
  },
  {
   "cell_type": "code",
   "execution_count": 34,
   "metadata": {},
   "outputs": [],
   "source": [
    "#create boolean 'in_series'\n",
    "game_data['in_series'] = np.where(game_data['game_series_count']!=0, True, False)"
   ]
  },
  {
   "cell_type": "code",
   "execution_count": 35,
   "metadata": {},
   "outputs": [
    {
     "data": {
      "text/plain": [
       "name                    object\n",
       "released                object\n",
       "suggestions_count        int64\n",
       "game_series_count        int64\n",
       "platforms               object\n",
       "developers              object\n",
       "genres                  object\n",
       "added_status_yet         int64\n",
       "added_status_owned       int64\n",
       "added_status_beaten      int64\n",
       "added_status_toplay      int64\n",
       "added_status_dropped     int64\n",
       "added_status_playing     int64\n",
       "has_achievements          bool\n",
       "in_series                 bool\n",
       "dtype: object"
      ]
     },
     "execution_count": 35,
     "metadata": {},
     "output_type": "execute_result"
    }
   ],
   "source": [
    "#confirm 'in_series' is bool\n",
    "game_data.dtypes"
   ]
  },
  {
   "cell_type": "code",
   "execution_count": 36,
   "metadata": {},
   "outputs": [],
   "source": [
    "game_data.drop(columns='game_series_count', inplace=True)"
   ]
  },
  {
   "cell_type": "code",
   "execution_count": 37,
   "metadata": {},
   "outputs": [
    {
     "data": {
      "text/plain": [
       "name                    324443\n",
       "released                324443\n",
       "suggestions_count       324443\n",
       "platforms               324443\n",
       "developers              324443\n",
       "genres                  324443\n",
       "added_status_yet        324443\n",
       "added_status_owned      324443\n",
       "added_status_beaten     324443\n",
       "added_status_toplay     324443\n",
       "added_status_dropped    324443\n",
       "added_status_playing    324443\n",
       "has_achievements        324443\n",
       "in_series               324443\n",
       "dtype: int64"
      ]
     },
     "execution_count": 37,
     "metadata": {},
     "output_type": "execute_result"
    }
   ],
   "source": [
    "game_data[game_data['added_status_yet']==0].count()"
   ]
  },
  {
   "cell_type": "code",
   "execution_count": 38,
   "metadata": {},
   "outputs": [
    {
     "data": {
      "text/plain": [
       "name                    298585\n",
       "released                298585\n",
       "suggestions_count       298585\n",
       "platforms               298585\n",
       "developers              298585\n",
       "genres                  298585\n",
       "added_status_yet        298585\n",
       "added_status_owned      298585\n",
       "added_status_beaten     298585\n",
       "added_status_toplay     298585\n",
       "added_status_dropped    298585\n",
       "added_status_playing    298585\n",
       "has_achievements        298585\n",
       "in_series               298585\n",
       "dtype: int64"
      ]
     },
     "execution_count": 38,
     "metadata": {},
     "output_type": "execute_result"
    }
   ],
   "source": [
    "game_data[game_data['added_status_owned']==0].count()"
   ]
  },
  {
   "cell_type": "code",
   "execution_count": 39,
   "metadata": {},
   "outputs": [
    {
     "data": {
      "text/plain": [
       "name                    322289\n",
       "released                322289\n",
       "suggestions_count       322289\n",
       "platforms               322289\n",
       "developers              322289\n",
       "genres                  322289\n",
       "added_status_yet        322289\n",
       "added_status_owned      322289\n",
       "added_status_beaten     322289\n",
       "added_status_toplay     322289\n",
       "added_status_dropped    322289\n",
       "added_status_playing    322289\n",
       "has_achievements        322289\n",
       "in_series               322289\n",
       "dtype: int64"
      ]
     },
     "execution_count": 39,
     "metadata": {},
     "output_type": "execute_result"
    }
   ],
   "source": [
    "game_data[game_data['added_status_beaten']==0].count()"
   ]
  },
  {
   "cell_type": "code",
   "execution_count": 40,
   "metadata": {},
   "outputs": [
    {
     "data": {
      "text/plain": [
       "name                    322356\n",
       "released                322356\n",
       "suggestions_count       322356\n",
       "platforms               322356\n",
       "developers              322356\n",
       "genres                  322356\n",
       "added_status_yet        322356\n",
       "added_status_owned      322356\n",
       "added_status_beaten     322356\n",
       "added_status_toplay     322356\n",
       "added_status_dropped    322356\n",
       "added_status_playing    322356\n",
       "has_achievements        322356\n",
       "in_series               322356\n",
       "dtype: int64"
      ]
     },
     "execution_count": 40,
     "metadata": {},
     "output_type": "execute_result"
    }
   ],
   "source": [
    "game_data[game_data['added_status_toplay']==0].count()"
   ]
  },
  {
   "cell_type": "code",
   "execution_count": 41,
   "metadata": {},
   "outputs": [
    {
     "data": {
      "text/plain": [
       "name                    324723\n",
       "released                324723\n",
       "suggestions_count       324723\n",
       "platforms               324723\n",
       "developers              324723\n",
       "genres                  324723\n",
       "added_status_yet        324723\n",
       "added_status_owned      324723\n",
       "added_status_beaten     324723\n",
       "added_status_toplay     324723\n",
       "added_status_dropped    324723\n",
       "added_status_playing    324723\n",
       "has_achievements        324723\n",
       "in_series               324723\n",
       "dtype: int64"
      ]
     },
     "execution_count": 41,
     "metadata": {},
     "output_type": "execute_result"
    }
   ],
   "source": [
    "game_data[game_data['added_status_dropped']==0].count()"
   ]
  },
  {
   "cell_type": "code",
   "execution_count": 42,
   "metadata": {},
   "outputs": [
    {
     "data": {
      "text/plain": [
       "name                    336831\n",
       "released                336831\n",
       "suggestions_count       336831\n",
       "platforms               336831\n",
       "developers              336831\n",
       "genres                  336831\n",
       "added_status_yet        336831\n",
       "added_status_owned      336831\n",
       "added_status_beaten     336831\n",
       "added_status_toplay     336831\n",
       "added_status_dropped    336831\n",
       "added_status_playing    336831\n",
       "has_achievements        336831\n",
       "in_series               336831\n",
       "dtype: int64"
      ]
     },
     "execution_count": 42,
     "metadata": {},
     "output_type": "execute_result"
    }
   ],
   "source": [
    "game_data[game_data['added_status_playing']==0].count()"
   ]
  },
  {
   "cell_type": "markdown",
   "metadata": {},
   "source": [
    "All of the added_status columns are mostly zeroes. I will need to drop them as they will not be useful target metrics"
   ]
  },
  {
   "cell_type": "code",
   "execution_count": 43,
   "metadata": {},
   "outputs": [],
   "source": [
    "game_data.drop(columns='added_status_yet', inplace=True)\n",
    "game_data.drop(columns='added_status_owned', inplace=True)\n",
    "game_data.drop(columns='added_status_beaten', inplace=True)\n",
    "game_data.drop(columns='added_status_toplay', inplace=True)\n",
    "game_data.drop(columns='added_status_dropped', inplace=True)\n",
    "game_data.drop(columns='added_status_playing', inplace=True)"
   ]
  },
  {
   "cell_type": "code",
   "execution_count": 44,
   "metadata": {},
   "outputs": [
    {
     "data": {
      "text/html": [
       "<div>\n",
       "<style scoped>\n",
       "    .dataframe tbody tr th:only-of-type {\n",
       "        vertical-align: middle;\n",
       "    }\n",
       "\n",
       "    .dataframe tbody tr th {\n",
       "        vertical-align: top;\n",
       "    }\n",
       "\n",
       "    .dataframe thead th {\n",
       "        text-align: right;\n",
       "    }\n",
       "</style>\n",
       "<table border=\"1\" class=\"dataframe\">\n",
       "  <thead>\n",
       "    <tr style=\"text-align: right;\">\n",
       "      <th></th>\n",
       "      <th>name</th>\n",
       "      <th>released</th>\n",
       "      <th>suggestions_count</th>\n",
       "      <th>platforms</th>\n",
       "      <th>developers</th>\n",
       "      <th>genres</th>\n",
       "      <th>has_achievements</th>\n",
       "      <th>in_series</th>\n",
       "    </tr>\n",
       "  </thead>\n",
       "  <tbody>\n",
       "    <tr>\n",
       "      <th>0</th>\n",
       "      <td>D/Generation HD</td>\n",
       "      <td>2015</td>\n",
       "      <td>292</td>\n",
       "      <td>PC||macOS||Xbox One||PlayStation 4||Nintendo S...</td>\n",
       "      <td>West Coast Software</td>\n",
       "      <td>Adventure||Puzzle</td>\n",
       "      <td>True</td>\n",
       "      <td>False</td>\n",
       "    </tr>\n",
       "    <tr>\n",
       "      <th>1</th>\n",
       "      <td>G Prime Into The Rain</td>\n",
       "      <td>2016</td>\n",
       "      <td>389</td>\n",
       "      <td>macOS||PC||Xbox One</td>\n",
       "      <td>Soma Games</td>\n",
       "      <td>Simulation||Indie</td>\n",
       "      <td>True</td>\n",
       "      <td>False</td>\n",
       "    </tr>\n",
       "    <tr>\n",
       "      <th>2</th>\n",
       "      <td>Land Sliders</td>\n",
       "      <td>2015</td>\n",
       "      <td>83</td>\n",
       "      <td>iOS</td>\n",
       "      <td>Prettygreat Pty</td>\n",
       "      <td>Adventure||Arcade</td>\n",
       "      <td>False</td>\n",
       "      <td>False</td>\n",
       "    </tr>\n",
       "    <tr>\n",
       "      <th>3</th>\n",
       "      <td>Pixel Gear</td>\n",
       "      <td>2016</td>\n",
       "      <td>455</td>\n",
       "      <td>PC||PlayStation 4</td>\n",
       "      <td>Oasis Games||Geronimo Interactive</td>\n",
       "      <td>Action||Indie</td>\n",
       "      <td>False</td>\n",
       "      <td>False</td>\n",
       "    </tr>\n",
       "    <tr>\n",
       "      <th>4</th>\n",
       "      <td>Gods and Idols</td>\n",
       "      <td>2016</td>\n",
       "      <td>262</td>\n",
       "      <td>PC</td>\n",
       "      <td>Viking Tao</td>\n",
       "      <td>RPG||Strategy||Massively Multiplayer</td>\n",
       "      <td>False</td>\n",
       "      <td>False</td>\n",
       "    </tr>\n",
       "  </tbody>\n",
       "</table>\n",
       "</div>"
      ],
      "text/plain": [
       "                    name released  suggestions_count  \\\n",
       "0        D/Generation HD     2015                292   \n",
       "1  G Prime Into The Rain     2016                389   \n",
       "2           Land Sliders     2015                 83   \n",
       "3             Pixel Gear     2016                455   \n",
       "4         Gods and Idols     2016                262   \n",
       "\n",
       "                                           platforms  \\\n",
       "0  PC||macOS||Xbox One||PlayStation 4||Nintendo S...   \n",
       "1                                macOS||PC||Xbox One   \n",
       "2                                                iOS   \n",
       "3                                  PC||PlayStation 4   \n",
       "4                                                 PC   \n",
       "\n",
       "                          developers                                genres  \\\n",
       "0                West Coast Software                     Adventure||Puzzle   \n",
       "1                         Soma Games                     Simulation||Indie   \n",
       "2                    Prettygreat Pty                     Adventure||Arcade   \n",
       "3  Oasis Games||Geronimo Interactive                         Action||Indie   \n",
       "4                         Viking Tao  RPG||Strategy||Massively Multiplayer   \n",
       "\n",
       "   has_achievements  in_series  \n",
       "0              True      False  \n",
       "1              True      False  \n",
       "2             False      False  \n",
       "3             False      False  \n",
       "4             False      False  "
      ]
     },
     "execution_count": 44,
     "metadata": {},
     "output_type": "execute_result"
    }
   ],
   "source": [
    "game_data.head()"
   ]
  },
  {
   "cell_type": "markdown",
   "metadata": {},
   "source": [
    "I now have a mostly workable dataframe. I have had to get rid of most of the columns I would have used as target metrics due to lack of data so my target metric for player enjoyment will be 'suggestions_count', the number of RAWG users who recommended the game. \n",
    "\n",
    "I might run into issues with the platforms and genres columns having multiple categories in the same row for games that are available on multiple platforms or are multi-genre games. I will need to discuss this with my mentor to decide the best course of action for this."
   ]
  }
 ],
 "metadata": {
  "kernelspec": {
   "display_name": "Python 3",
   "language": "python",
   "name": "python3"
  },
  "language_info": {
   "codemirror_mode": {
    "name": "ipython",
    "version": 3
   },
   "file_extension": ".py",
   "mimetype": "text/x-python",
   "name": "python",
   "nbconvert_exporter": "python",
   "pygments_lexer": "ipython3",
   "version": "3.7.9"
  }
 },
 "nbformat": 4,
 "nbformat_minor": 4
}
